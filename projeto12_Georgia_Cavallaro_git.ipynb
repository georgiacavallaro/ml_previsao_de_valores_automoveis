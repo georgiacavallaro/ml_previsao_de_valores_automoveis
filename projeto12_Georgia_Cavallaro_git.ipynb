{
 "cells": [
  {
   "cell_type": "markdown",
   "metadata": {},
   "source": [
    "Olá, \n",
    "\n",
    "Meu nome é Ramon. Ao ao longo do texto farei algumas observações sobre melhorias no código. Nas partes em que não houver comentários, está tudo certo, ok? Estarei aberto a feedbacks e discussões sobre o tema.\n",
    "\n",
    "**Peço que mantenha e não altere os comentários que eu fizer por aqui para que possamos nos localizar posteriormente, ok?**\n",
    "\n",
    "Mais uma coisa, vamos utilizar um código de cores para você entender os meus feedbacks no seu notebook. Funciona assim:\n",
    "\n",
    "<div class=\"alert alert-block alert-success\">\n",
    "<b> Comentário do revisor: </b> <a class=\"tocSkip\"></a>\n",
    "\n",
    "Sucesso. Tudo foi feito corretamente.\n",
    "</div>\n",
    "\n",
    "<div class=\"alert alert-block alert-warning\">\n",
    "<b>Comentário do revisor: </b> <a class=\"tocSkip\"></a>\n",
    "\n",
    "Alerta não crítco, mas que pode ser corrigido para melhoria geral no seu código/análise\n",
    "</div>\n",
    "\n",
    "<div class=\"alert alert-block alert-danger\">\n",
    "\n",
    "<b>Comentário do revisor: </b> <a class=\"tocSkip\"></a>\n",
    "    \n",
    "Erro que precisa ser consertado, caso contrário seu projeto **não** será aceito.\n",
    "</div>\n",
    "\n",
    "Você pode me responder usando isso:\n",
    "<div class=\"alert alert-block alert-info\">\n",
    "<b>Resposta do Aluno.</b> \n",
    "    Bom dia Ramon, tudo bom? Quando enviei o projeto já havia ficado 4 horas tentando calibrar hiperparâmetros sem encontrar nenhuma melhoria significativa nos resultados. Você tem alguma sugestão de como fazer esta calibragem se forma mais eficiente?<a class=\"tocSkip\"></a>\n",
    "</div>\n",
    "\n",
    "###\n",
    "\n",
    "<div class=\"alert alert-block alert-success\">\n",
    "<b>Comentário Geral do Revisor</b> <a class=\"tocSkip\"></a>\n",
    "\n",
    "Obrigado por enviar seu projeto. \n",
    "    \n",
    "Parabéns, você fez um bom trabalho.\n",
    "\n",
    "Como pontos fortes do projeto, destaco:\n",
    "- Código simples e eficiente (sem loop desnecessário)\n",
    "- Uso adequado dos recursos da lição\n",
    "\n",
    "    \n",
    "<span class=\"text-danger\">Porém, há espaço para melhorias conforme os itens apontados anteriormente. Destaco os  pontos a seguir: </span>\n",
    " * <span class=\"text-danger\"> Precisa calibrar hiperparâmetros </span>\n",
    "\n",
    "\n",
    "Portanto, sugiro que você corrija os pontos indicados.\n",
    "    \n",
    "Se você tiver alguma dúvida sobre de algo que você não tenha entendido, sinta-se à vontade para perguntar ao tutor ou deixar um comentário em **azul** para que, na próxima iteração, eu possa responder.\n",
    "\n",
    "Conte conosco. Lembre-se de que você pode tirar dúvidas com revisores usando os comentários ou buscar ajuda de um tutor.\n",
    "Bom trabalho. \n",
    "</div>\n",
    "\n"
   ]
  },
  {
   "cell_type": "markdown",
   "metadata": {},
   "source": [
    "\n",
    "<div class=\"alert alert-block alert-success\">\n",
    "<b> Comentário Geral do revisor v2: </b> <a class=\"tocSkip\"></a>\n",
    "\n",
    "O projeto voltou sem calibração de hiperparâmetros. Você pode usar o GridSearchCV nos parâmetros depth para random forest e árvore decisão apenas. Não precisa calibrar lightgbm. Oriento apenas alterar a parte referente a esses dois modelos.</div>"
   ]
  },
  {
   "cell_type": "markdown",
   "metadata": {},
   "source": [
    "<div class=\"alert alert-block alert-success\">\n",
    "<b> Comentário Geral do revisor v3: </b> <a class=\"tocSkip\"></a>\n",
    "\n",
    "Tudo certo agora. Desejo sucesso na jornada. Parabéns pelo empenho.\n",
    "</div>"
   ]
  },
  {
   "cell_type": "markdown",
   "metadata": {},
   "source": [
    "# Quer andar de carro velho, amor?\n",
    "\n",
    "O serviço de vendas de carros usados Rusty Bargain está desenvolvendo um aplicativo para atrair novos clientes. Nesse aplicativo, você pode descobrir rapidamente o valor de mercado do seu carro. Você tem acesso a dados históricos: especificações técnicas, versões de acabamento e preços. Você precisa construir o modelo para determinar o valor. \n",
    "\n",
    "Rusty Bargain está interessado em:\n",
    "\n",
    "- a qualidade da predição;\n",
    "- a velocidade da predição;\n",
    "- o tempo necessário para o treinamento"
   ]
  },
  {
   "cell_type": "markdown",
   "metadata": {},
   "source": [
    "## Preparação de Dados"
   ]
  },
  {
   "cell_type": "code",
   "execution_count": 3,
   "metadata": {},
   "outputs": [],
   "source": [
    "# Carregando Bibliotecas\n",
    "import time\n",
    "\n",
    "import pandas as pd\n",
    "import numpy as np\n",
    "import lightgbm as lgb\n",
    "\n",
    "from sklearn.model_selection import train_test_split\n",
    "from sklearn.linear_model import LinearRegression\n",
    "from sklearn.preprocessing import LabelEncoder\n",
    "from sklearn.ensemble import RandomForestRegressor\n",
    "from sklearn.metrics import mean_squared_error\n",
    "from sklearn.tree import DecisionTreeRegressor\n",
    "from sklearn.model_selection import GridSearchCV"
   ]
  },
  {
   "cell_type": "code",
   "execution_count": 4,
   "metadata": {},
   "outputs": [],
   "source": [
    "# Carregando os dados\n",
    "data = pd.read_csv(\"car_data.csv\")\n",
    "\n",
    "df = pd.DataFrame(data)"
   ]
  },
  {
   "cell_type": "code",
   "execution_count": 5,
   "metadata": {},
   "outputs": [
    {
     "name": "stdout",
     "output_type": "stream",
     "text": [
      "<class 'pandas.core.frame.DataFrame'>\n",
      "RangeIndex: 354369 entries, 0 to 354368\n",
      "Data columns (total 16 columns):\n",
      " #   Column             Non-Null Count   Dtype \n",
      "---  ------             --------------   ----- \n",
      " 0   DateCrawled        354369 non-null  object\n",
      " 1   Price              354369 non-null  int64 \n",
      " 2   VehicleType        316879 non-null  object\n",
      " 3   RegistrationYear   354369 non-null  int64 \n",
      " 4   Gearbox            334536 non-null  object\n",
      " 5   Power              354369 non-null  int64 \n",
      " 6   Model              334664 non-null  object\n",
      " 7   Mileage            354369 non-null  int64 \n",
      " 8   RegistrationMonth  354369 non-null  int64 \n",
      " 9   FuelType           321474 non-null  object\n",
      " 10  Brand              354369 non-null  object\n",
      " 11  NotRepaired        283215 non-null  object\n",
      " 12  DateCreated        354369 non-null  object\n",
      " 13  NumberOfPictures   354369 non-null  int64 \n",
      " 14  PostalCode         354369 non-null  int64 \n",
      " 15  LastSeen           354369 non-null  object\n",
      "dtypes: int64(7), object(9)\n",
      "memory usage: 43.3+ MB\n"
     ]
    }
   ],
   "source": [
    "# Visualizando os dados\n",
    "df.info()"
   ]
  },
  {
   "cell_type": "code",
   "execution_count": 6,
   "metadata": {},
   "outputs": [
    {
     "data": {
      "text/html": [
       "<div>\n",
       "<style scoped>\n",
       "    .dataframe tbody tr th:only-of-type {\n",
       "        vertical-align: middle;\n",
       "    }\n",
       "\n",
       "    .dataframe tbody tr th {\n",
       "        vertical-align: top;\n",
       "    }\n",
       "\n",
       "    .dataframe thead th {\n",
       "        text-align: right;\n",
       "    }\n",
       "</style>\n",
       "<table border=\"1\" class=\"dataframe\">\n",
       "  <thead>\n",
       "    <tr style=\"text-align: right;\">\n",
       "      <th></th>\n",
       "      <th>DateCrawled</th>\n",
       "      <th>Price</th>\n",
       "      <th>VehicleType</th>\n",
       "      <th>RegistrationYear</th>\n",
       "      <th>Gearbox</th>\n",
       "      <th>Power</th>\n",
       "      <th>Model</th>\n",
       "      <th>Mileage</th>\n",
       "      <th>RegistrationMonth</th>\n",
       "      <th>FuelType</th>\n",
       "      <th>Brand</th>\n",
       "      <th>NotRepaired</th>\n",
       "      <th>DateCreated</th>\n",
       "      <th>NumberOfPictures</th>\n",
       "      <th>PostalCode</th>\n",
       "      <th>LastSeen</th>\n",
       "    </tr>\n",
       "  </thead>\n",
       "  <tbody>\n",
       "    <tr>\n",
       "      <th>308816</th>\n",
       "      <td>30/03/2016 14:45</td>\n",
       "      <td>800</td>\n",
       "      <td>NaN</td>\n",
       "      <td>2016</td>\n",
       "      <td>manual</td>\n",
       "      <td>75</td>\n",
       "      <td>civic</td>\n",
       "      <td>150000</td>\n",
       "      <td>9</td>\n",
       "      <td>NaN</td>\n",
       "      <td>honda</td>\n",
       "      <td>NaN</td>\n",
       "      <td>20/03/2016 00:00</td>\n",
       "      <td>0</td>\n",
       "      <td>30966</td>\n",
       "      <td>06/04/2016 12:16</td>\n",
       "    </tr>\n",
       "    <tr>\n",
       "      <th>60879</th>\n",
       "      <td>31/03/2016 17:53</td>\n",
       "      <td>0</td>\n",
       "      <td>coupe</td>\n",
       "      <td>2001</td>\n",
       "      <td>auto</td>\n",
       "      <td>306</td>\n",
       "      <td>cl</td>\n",
       "      <td>150000</td>\n",
       "      <td>7</td>\n",
       "      <td>petrol</td>\n",
       "      <td>mercedes_benz</td>\n",
       "      <td>no</td>\n",
       "      <td>31/03/2016 00:00</td>\n",
       "      <td>0</td>\n",
       "      <td>92637</td>\n",
       "      <td>06/04/2016 11:44</td>\n",
       "    </tr>\n",
       "    <tr>\n",
       "      <th>262934</th>\n",
       "      <td>26/03/2016 19:51</td>\n",
       "      <td>1100</td>\n",
       "      <td>wagon</td>\n",
       "      <td>1999</td>\n",
       "      <td>manual</td>\n",
       "      <td>101</td>\n",
       "      <td>passat</td>\n",
       "      <td>150000</td>\n",
       "      <td>11</td>\n",
       "      <td>petrol</td>\n",
       "      <td>volkswagen</td>\n",
       "      <td>no</td>\n",
       "      <td>26/03/2016 00:00</td>\n",
       "      <td>0</td>\n",
       "      <td>25594</td>\n",
       "      <td>28/03/2016 09:16</td>\n",
       "    </tr>\n",
       "    <tr>\n",
       "      <th>11910</th>\n",
       "      <td>01/04/2016 19:49</td>\n",
       "      <td>400</td>\n",
       "      <td>small</td>\n",
       "      <td>2002</td>\n",
       "      <td>manual</td>\n",
       "      <td>60</td>\n",
       "      <td>punto</td>\n",
       "      <td>150000</td>\n",
       "      <td>0</td>\n",
       "      <td>NaN</td>\n",
       "      <td>fiat</td>\n",
       "      <td>yes</td>\n",
       "      <td>01/04/2016 00:00</td>\n",
       "      <td>0</td>\n",
       "      <td>40225</td>\n",
       "      <td>05/04/2016 16:45</td>\n",
       "    </tr>\n",
       "    <tr>\n",
       "      <th>2472</th>\n",
       "      <td>01/04/2016 22:57</td>\n",
       "      <td>3300</td>\n",
       "      <td>wagon</td>\n",
       "      <td>2004</td>\n",
       "      <td>manual</td>\n",
       "      <td>131</td>\n",
       "      <td>passat</td>\n",
       "      <td>150000</td>\n",
       "      <td>10</td>\n",
       "      <td>gasoline</td>\n",
       "      <td>volkswagen</td>\n",
       "      <td>yes</td>\n",
       "      <td>01/04/2016 00:00</td>\n",
       "      <td>0</td>\n",
       "      <td>53498</td>\n",
       "      <td>02/04/2016 00:41</td>\n",
       "    </tr>\n",
       "  </tbody>\n",
       "</table>\n",
       "</div>"
      ],
      "text/plain": [
       "             DateCrawled  Price VehicleType  RegistrationYear Gearbox  Power  \\\n",
       "308816  30/03/2016 14:45    800         NaN              2016  manual     75   \n",
       "60879   31/03/2016 17:53      0       coupe              2001    auto    306   \n",
       "262934  26/03/2016 19:51   1100       wagon              1999  manual    101   \n",
       "11910   01/04/2016 19:49    400       small              2002  manual     60   \n",
       "2472    01/04/2016 22:57   3300       wagon              2004  manual    131   \n",
       "\n",
       "         Model  Mileage  RegistrationMonth  FuelType          Brand  \\\n",
       "308816   civic   150000                  9       NaN          honda   \n",
       "60879       cl   150000                  7    petrol  mercedes_benz   \n",
       "262934  passat   150000                 11    petrol     volkswagen   \n",
       "11910    punto   150000                  0       NaN           fiat   \n",
       "2472    passat   150000                 10  gasoline     volkswagen   \n",
       "\n",
       "       NotRepaired       DateCreated  NumberOfPictures  PostalCode  \\\n",
       "308816         NaN  20/03/2016 00:00                 0       30966   \n",
       "60879           no  31/03/2016 00:00                 0       92637   \n",
       "262934          no  26/03/2016 00:00                 0       25594   \n",
       "11910          yes  01/04/2016 00:00                 0       40225   \n",
       "2472           yes  01/04/2016 00:00                 0       53498   \n",
       "\n",
       "                LastSeen  \n",
       "308816  06/04/2016 12:16  \n",
       "60879   06/04/2016 11:44  \n",
       "262934  28/03/2016 09:16  \n",
       "11910   05/04/2016 16:45  \n",
       "2472    02/04/2016 00:41  "
      ]
     },
     "execution_count": 6,
     "metadata": {},
     "output_type": "execute_result"
    }
   ],
   "source": [
    "df.sample(5, random_state=333)"
   ]
  },
  {
   "cell_type": "code",
   "execution_count": 7,
   "metadata": {},
   "outputs": [
    {
     "data": {
      "text/html": [
       "<div>\n",
       "<style scoped>\n",
       "    .dataframe tbody tr th:only-of-type {\n",
       "        vertical-align: middle;\n",
       "    }\n",
       "\n",
       "    .dataframe tbody tr th {\n",
       "        vertical-align: top;\n",
       "    }\n",
       "\n",
       "    .dataframe thead th {\n",
       "        text-align: right;\n",
       "    }\n",
       "</style>\n",
       "<table border=\"1\" class=\"dataframe\">\n",
       "  <thead>\n",
       "    <tr style=\"text-align: right;\">\n",
       "      <th></th>\n",
       "      <th>Price</th>\n",
       "      <th>RegistrationYear</th>\n",
       "      <th>Power</th>\n",
       "      <th>Mileage</th>\n",
       "      <th>RegistrationMonth</th>\n",
       "      <th>NumberOfPictures</th>\n",
       "      <th>PostalCode</th>\n",
       "    </tr>\n",
       "  </thead>\n",
       "  <tbody>\n",
       "    <tr>\n",
       "      <th>count</th>\n",
       "      <td>354369.000000</td>\n",
       "      <td>354369.000000</td>\n",
       "      <td>354369.000000</td>\n",
       "      <td>354369.000000</td>\n",
       "      <td>354369.000000</td>\n",
       "      <td>354369.0</td>\n",
       "      <td>354369.000000</td>\n",
       "    </tr>\n",
       "    <tr>\n",
       "      <th>mean</th>\n",
       "      <td>4416.656776</td>\n",
       "      <td>2004.234448</td>\n",
       "      <td>110.094337</td>\n",
       "      <td>128211.172535</td>\n",
       "      <td>5.714645</td>\n",
       "      <td>0.0</td>\n",
       "      <td>50508.689087</td>\n",
       "    </tr>\n",
       "    <tr>\n",
       "      <th>std</th>\n",
       "      <td>4514.158514</td>\n",
       "      <td>90.227958</td>\n",
       "      <td>189.850405</td>\n",
       "      <td>37905.341530</td>\n",
       "      <td>3.726421</td>\n",
       "      <td>0.0</td>\n",
       "      <td>25783.096248</td>\n",
       "    </tr>\n",
       "    <tr>\n",
       "      <th>min</th>\n",
       "      <td>0.000000</td>\n",
       "      <td>1000.000000</td>\n",
       "      <td>0.000000</td>\n",
       "      <td>5000.000000</td>\n",
       "      <td>0.000000</td>\n",
       "      <td>0.0</td>\n",
       "      <td>1067.000000</td>\n",
       "    </tr>\n",
       "    <tr>\n",
       "      <th>25%</th>\n",
       "      <td>1050.000000</td>\n",
       "      <td>1999.000000</td>\n",
       "      <td>69.000000</td>\n",
       "      <td>125000.000000</td>\n",
       "      <td>3.000000</td>\n",
       "      <td>0.0</td>\n",
       "      <td>30165.000000</td>\n",
       "    </tr>\n",
       "    <tr>\n",
       "      <th>50%</th>\n",
       "      <td>2700.000000</td>\n",
       "      <td>2003.000000</td>\n",
       "      <td>105.000000</td>\n",
       "      <td>150000.000000</td>\n",
       "      <td>6.000000</td>\n",
       "      <td>0.0</td>\n",
       "      <td>49413.000000</td>\n",
       "    </tr>\n",
       "    <tr>\n",
       "      <th>75%</th>\n",
       "      <td>6400.000000</td>\n",
       "      <td>2008.000000</td>\n",
       "      <td>143.000000</td>\n",
       "      <td>150000.000000</td>\n",
       "      <td>9.000000</td>\n",
       "      <td>0.0</td>\n",
       "      <td>71083.000000</td>\n",
       "    </tr>\n",
       "    <tr>\n",
       "      <th>max</th>\n",
       "      <td>20000.000000</td>\n",
       "      <td>9999.000000</td>\n",
       "      <td>20000.000000</td>\n",
       "      <td>150000.000000</td>\n",
       "      <td>12.000000</td>\n",
       "      <td>0.0</td>\n",
       "      <td>99998.000000</td>\n",
       "    </tr>\n",
       "  </tbody>\n",
       "</table>\n",
       "</div>"
      ],
      "text/plain": [
       "               Price  RegistrationYear          Power        Mileage  \\\n",
       "count  354369.000000     354369.000000  354369.000000  354369.000000   \n",
       "mean     4416.656776       2004.234448     110.094337  128211.172535   \n",
       "std      4514.158514         90.227958     189.850405   37905.341530   \n",
       "min         0.000000       1000.000000       0.000000    5000.000000   \n",
       "25%      1050.000000       1999.000000      69.000000  125000.000000   \n",
       "50%      2700.000000       2003.000000     105.000000  150000.000000   \n",
       "75%      6400.000000       2008.000000     143.000000  150000.000000   \n",
       "max     20000.000000       9999.000000   20000.000000  150000.000000   \n",
       "\n",
       "       RegistrationMonth  NumberOfPictures     PostalCode  \n",
       "count      354369.000000          354369.0  354369.000000  \n",
       "mean            5.714645               0.0   50508.689087  \n",
       "std             3.726421               0.0   25783.096248  \n",
       "min             0.000000               0.0    1067.000000  \n",
       "25%             3.000000               0.0   30165.000000  \n",
       "50%             6.000000               0.0   49413.000000  \n",
       "75%             9.000000               0.0   71083.000000  \n",
       "max            12.000000               0.0   99998.000000  "
      ]
     },
     "execution_count": 7,
     "metadata": {},
     "output_type": "execute_result"
    }
   ],
   "source": [
    "# Conferindo se há valores extremos\n",
    "df.describe()"
   ]
  },
  {
   "cell_type": "code",
   "execution_count": 8,
   "metadata": {},
   "outputs": [
    {
     "data": {
      "text/plain": [
       "array([1000, 1001, 1039, 1111, 1200, 1234, 1253, 1255, 1300, 1400, 1500,\n",
       "       1600, 1602, 1688, 1800, 1910, 1915, 1919, 1920, 1923, 1925, 1927,\n",
       "       1928, 1929, 1930, 1931, 1932, 1933, 1934, 1935, 1936, 1937, 1938,\n",
       "       1940, 1941, 1942, 1943, 1944, 1945, 1946, 1947, 1948, 1949, 1950,\n",
       "       1951, 1952, 1953, 1954, 1955, 1956, 1957, 1958, 1959, 1960, 1961,\n",
       "       1962, 1963, 1964, 1965, 1966, 1967, 1968, 1969, 1970, 1971, 1972,\n",
       "       1973, 1974, 1975, 1976, 1977, 1978, 1979, 1980, 1981, 1982, 1983,\n",
       "       1984, 1985, 1986, 1987, 1988, 1989, 1990, 1991, 1992, 1993, 1994,\n",
       "       1995, 1996, 1997, 1998, 1999, 2000, 2001, 2002, 2003, 2004, 2005,\n",
       "       2006, 2007, 2008, 2009, 2010, 2011, 2012, 2013, 2014, 2015, 2016,\n",
       "       2017, 2018, 2019, 2066, 2200, 2222, 2290, 2500, 2800, 2900, 3000,\n",
       "       3200, 3500, 3700, 3800, 4000, 4100, 4500, 4800, 5000, 5300, 5555,\n",
       "       5600, 5900, 5911, 6000, 6500, 7000, 7100, 7500, 7800, 8000, 8200,\n",
       "       8455, 8500, 8888, 9000, 9229, 9450, 9996, 9999])"
      ]
     },
     "execution_count": 8,
     "metadata": {},
     "output_type": "execute_result"
    }
   ],
   "source": [
    "# Analisando valores incomuns\n",
    "df[\"RegistrationYear\"].sort_values().unique()"
   ]
  },
  {
   "cell_type": "code",
   "execution_count": 9,
   "metadata": {},
   "outputs": [
    {
     "data": {
      "text/plain": [
       "array([    0,     1,     2,     3,     4,     5,     6,     7,     8,\n",
       "           9,    10,    11,    12,    13,    14,    15,    16,    17,\n",
       "          18,    19,    20,    21,    22,    23,    24,    25,    26,\n",
       "          27,    28,    29,    30,    31,    32,    33,    34,    35,\n",
       "          36,    37,    38,    39,    40,    41,    42,    43,    44,\n",
       "          45,    46,    47,    48,    49,    50,    51,    52,    53,\n",
       "          54,    55,    56,    57,    58,    59,    60,    61,    62,\n",
       "          63,    64,    65,    66,    67,    68,    69,    70,    71,\n",
       "          72,    73,    74,    75,    76,    77,    78,    79,    80,\n",
       "          81,    82,    83,    84,    85,    86,    87,    88,    89,\n",
       "          90,    91,    92,    93,    94,    95,    96,    97,    98,\n",
       "          99,   100,   101,   102,   103,   104,   105,   106,   107,\n",
       "         108,   109,   110,   111,   112,   113,   114,   115,   116,\n",
       "         117,   118,   119,   120,   121,   122,   123,   124,   125,\n",
       "         126,   127,   128,   129,   130,   131,   132,   133,   134,\n",
       "         135,   136,   137,   138,   139,   140,   141,   142,   143,\n",
       "         144,   145,   146,   147,   148,   149,   150,   151,   152,\n",
       "         153,   154,   155,   156,   157,   158,   159,   160,   161,\n",
       "         162,   163,   164,   165,   166,   167,   168,   169,   170,\n",
       "         171,   172,   173,   174,   175,   176,   177,   178,   179,\n",
       "         180,   181,   182,   183,   184,   185,   186,   187,   188,\n",
       "         189,   190,   191,   192,   193,   194,   195,   196,   197,\n",
       "         198,   199,   200,   201,   202,   203,   204,   205,   206,\n",
       "         207,   208,   209,   210,   211,   212,   213,   214,   215,\n",
       "         216,   217,   218,   219,   220,   221,   222,   223,   224,\n",
       "         225,   226,   227,   228,   229,   230,   231,   232,   233,\n",
       "         234,   235,   236,   237,   238,   239,   240,   241,   242,\n",
       "         243,   244,   245,   246,   247,   248,   249,   250,   251,\n",
       "         252,   253,   254,   255,   256,   257,   258,   259,   260,\n",
       "         261,   262,   264,   265,   266,   267,   268,   269,   270,\n",
       "         271,   272,   273,   274,   275,   276,   277,   278,   279,\n",
       "         280,   281,   282,   283,   284,   285,   286,   287,   288,\n",
       "         289,   290,   292,   293,   294,   295,   296,   297,   298,\n",
       "         299,   300,   301,   303,   304,   305,   306,   307,   308,\n",
       "         309,   310,   311,   313,   314,   315,   316,   317,   318,\n",
       "         320,   321,   322,   323,   324,   325,   326,   327,   328,\n",
       "         329,   330,   331,   332,   333,   334,   335,   336,   337,\n",
       "         338,   339,   340,   341,   343,   344,   345,   346,   347,\n",
       "         348,   349,   350,   351,   352,   353,   354,   355,   356,\n",
       "         357,   358,   360,   361,   362,   363,   364,   365,   367,\n",
       "         368,   370,   371,   374,   375,   376,   377,   379,   380,\n",
       "         381,   382,   385,   386,   387,   388,   390,   392,   394,\n",
       "         396,   398,   399,   400,   401,   402,   405,   408,   409,\n",
       "         411,   416,   420,   421,   425,   426,   428,   430,   431,\n",
       "         435,   440,   442,   445,   449,   450,   454,   457,   459,\n",
       "         460,   475,   476,   485,   487,   489,   490,   500,   504,\n",
       "         505,   507,   508,   510,   514,   515,   517,   519,   520,\n",
       "         521,   525,   530,   540,   541,   544,   550,   551,   553,\n",
       "         560,   572,   574,   579,   580,   584,   585,   599,   600,\n",
       "         601,   602,   603,   604,   606,   607,   610,   612,   620,\n",
       "         640,   645,   650,   651,   671,   678,   682,   685,   696,\n",
       "         700,   702,   703,   732,   743,   750,   751,   754,   771,\n",
       "         776,   800,   805,   808,   850,   851,   871,   900,   901,\n",
       "         902,   903,   907,   909,   923,   950,   952,   953,   960,\n",
       "         998,   999,  1000,  1001,  1002,  1003,  1004,  1005,  1011,\n",
       "        1012,  1016,  1017,  1021,  1024,  1054,  1055,  1056,  1062,\n",
       "        1079,  1082,  1090,  1100,  1102,  1103,  1105,  1111,  1115,\n",
       "        1120,  1149,  1151,  1158,  1160,  1162,  1164,  1199,  1200,\n",
       "        1202,  1221,  1223,  1230,  1239,  1240,  1241,  1250,  1252,\n",
       "        1256,  1275,  1288,  1299,  1300,  1312,  1317,  1324,  1339,\n",
       "        1351,  1360,  1362,  1363,  1367,  1390,  1394,  1398,  1399,\n",
       "        1400,  1401,  1403,  1405,  1416,  1432,  1433,  1436,  1500,\n",
       "        1501,  1502,  1503,  1506,  1521,  1548,  1595,  1596,  1597,\n",
       "        1598,  1600,  1625,  1631,  1653,  1659,  1689,  1700,  1701,\n",
       "        1703,  1704,  1707,  1753,  1771,  1779,  1780,  1781,  1783,\n",
       "        1793,  1796,  1799,  1800,  1801,  1870,  1895,  1896,  1900,\n",
       "        1910,  1920,  1922,  1933,  1937,  1968,  1986,  1988,  1992,\n",
       "        1993,  1995,  1998,  1999,  2000,  2004,  2005,  2007,  2009,\n",
       "        2016,  2017,  2018,  2172,  2200,  2201,  2331,  2340,  2389,\n",
       "        2402,  2461,  2598,  2729,  2789,  2792,  2799,  3000,  3199,\n",
       "        3454,  3500,  3750,  4400,  4507,  4700,  5000,  5411,  5420,\n",
       "        5575,  5809,  5815,  5867,  6006,  6010,  6011,  6012,  6018,\n",
       "        6045,  6062,  6226,  6512,  6920,  7508,  7511,  7512,  7515,\n",
       "        7518,  7529,  7544,  8011,  8259,  8404,  8500,  9000,  9007,\n",
       "        9010,  9011,  9012,  9013,  9710, 10000, 10110, 10218, 10311,\n",
       "       10317, 10520, 10522, 10710, 10910, 10912, 11011, 11025, 11111,\n",
       "       11509, 11530, 11635, 12012, 12510, 12512, 12684, 13616, 13636,\n",
       "       14009, 15001, 15016, 15017, 15020, 15033, 16011, 16051, 16311,\n",
       "       16312, 17011, 17019, 17410, 17700, 17932, 19208, 19211, 19312,\n",
       "       20000])"
      ]
     },
     "execution_count": 9,
     "metadata": {},
     "output_type": "execute_result"
    }
   ],
   "source": [
    "df[\"Power\"].sort_values().unique()"
   ]
  },
  {
   "cell_type": "markdown",
   "metadata": {},
   "source": [
    "O conjunto de dados possui 16 colunas, sendo 15 características e 1 objetivo. São elas:\n",
    "\n",
    "- **DateCrawled** - Data em que o perfil foi baixado do banco de dados;\n",
    " - Formato: *object*, deveria ser *DateTime* porém não será convertido por não conter dados relevantes para o modelo e que podem confundir o modelo afinal.\n",
    " - Não possui valores nulos.\n",
    "- **Price** - Objetivo de descoberta do algoritmo *(target)*;\n",
    " - Formato: *int*, está correto.\n",
    " - Não possui valores nulos.\n",
    " - Aparentemente sem valores extremos.\n",
    "- **VehicleType** - Tipo de carroceria do veículo *(feature)*;\n",
    " - Formato: *object*, correto.\n",
    " - Possui valores nulos que podem ser substituídos por *unknown*.\n",
    "- **RegistrationYear** - Ano de matrícula do veículo *(feature)*;\n",
    " - Formato: *int*, está correto.\n",
    " - Não possui valores nulos.\n",
    " - Possui valores extremos e datas futuras, possivelmente por conta de erros de digitação, serão substituídos por 2024 *(ano atual)*;\n",
    "- **Gearbox** - Tipo de caixa de transmissão *(feature)*;\n",
    " - Formato: *object*, correto.\n",
    " - Possui valores nulos que podem ser substituídos por *unknown*.\n",
    "- **Power** - Potência (hp) *(feature)*;\n",
    " - Formato: *int*, correto.\n",
    " - Não possui valores nulos.\n",
    " - Aparentemente sem valores extremos.\n",
    "- **Model** - Modelo do veículo *(feature)*;\n",
    " - Formato: *object*, correto.\n",
    " - Possui valores nulos que podem ser substituídos por *unknown*.\n",
    "- **Mileage** - Quilomeatragem (km) *(feature)*;\n",
    " - Formato: *int*, correto.\n",
    " - Não possui valores nulos.\n",
    " - Aparentemente sem valores extremos.\n",
    "- **RegistrationMonth** - Mês de registro do veículo *(feature)*;\n",
    " - Formato: *int*, correto.\n",
    " - Não possui valores nulos.\n",
    " - Aparentemente sem valores extremos.\n",
    "- **FuelType** - Tipo de combustível *(feature)*;\n",
    " - Formato: *object*, correto.\n",
    " - Possui valores nulos que podem ser substituídos por *unknown*.\n",
    "- **Brand** - Marca do veículo *(feature)*;\n",
    " - Formato: *object*, correto.\n",
    " - Não possui valores nulos.\n",
    "- **NotRepaired** - Veículo reparado ou não *(feature)*;\n",
    " - Formato: *object*, também pode ser convertido para *boolean* para melhor interpretação do modelo.\n",
    " - Possui valores nulos que podem ser substituídos por *unknown*, neste caso deixa de ser *boolean*.\n",
    "- **DateCreated** - Data de criação do perfil *(feature)*;\n",
    " - Formato: *object*, precisa ser convertido para *Datetime*.\n",
    " - Não possui valores nulos.\n",
    "- **NumberOfPictures** - Número de fotos do veículo *(feature)*;\n",
    " - Formato: *int*, correto.\n",
    " - Não possui valores nulos.\n",
    " - Sem valores extremos *(apesar de só possui valores zero ainda pode ser uma coluna a ser levada em consideração em futuras predições)*.\n",
    "- **PostalCode** - Código postal do proprietário do veículo *(feature)*;\n",
    " - Formato: *int*, correto.\n",
    " - Não possui valores nulos.\n",
    " - Aparentemente sem valores extremos *(valores categóricos)*.\n",
    "- **LastSeen** - Data da última atividade do usuário *(feature)*.\n",
    " - Formato: *object*, precisa ser convertido para *Datetime*.\n",
    " - Não possui valores nulos."
   ]
  },
  {
   "cell_type": "code",
   "execution_count": 10,
   "metadata": {},
   "outputs": [],
   "source": [
    "# Retirando a coluna 'DateCrawled'\n",
    "df = df.drop([\"DateCrawled\"], axis=1)"
   ]
  },
  {
   "cell_type": "code",
   "execution_count": 11,
   "metadata": {},
   "outputs": [],
   "source": [
    "# Substituindo valores nulos por 'unknown'\n",
    "df.fillna(\"unknown\", inplace=True)"
   ]
  },
  {
   "cell_type": "markdown",
   "metadata": {},
   "source": [
    "\n",
    "<div class=\"alert alert-block alert-warning\">\n",
    "<b> Comentário do revisor: </b> <a class=\"tocSkip\"></a>\n",
    "\n",
    "Você está substituindo todos os valores nans por unknown. Precisa tomar cuidado para não misturar os tipos dos dados\n",
    "</div>\n"
   ]
  },
  {
   "cell_type": "code",
   "execution_count": 12,
   "metadata": {},
   "outputs": [],
   "source": [
    "# Convertendo 'DateCreated' para datetime\n",
    "df[\"DateCreated\"] = pd.to_datetime(df[\"DateCreated\"], format=\"%d/%m/%Y %H:%M\")"
   ]
  },
  {
   "cell_type": "code",
   "execution_count": 13,
   "metadata": {},
   "outputs": [],
   "source": [
    "# Convertendo 'LastSeen' para datetime\n",
    "df[\"LastSeen\"] = pd.to_datetime(df[\"LastSeen\"], format=\"%d/%m/%Y %H:%M\")"
   ]
  },
  {
   "cell_type": "code",
   "execution_count": 14,
   "metadata": {},
   "outputs": [],
   "source": [
    "# Substituindo anos de registro maiores que 2024 na coluna 'RegistrationYear'\n",
    "df[\"RegistrationYear\"] = (\n",
    "    df[\"RegistrationYear\"].apply(lambda x: 2024 if x > 2024 else x).astype(\"int\")\n",
    ")"
   ]
  },
  {
   "cell_type": "markdown",
   "metadata": {},
   "source": [
    "## Treinamento do modelo"
   ]
  },
  {
   "cell_type": "code",
   "execution_count": 15,
   "metadata": {},
   "outputs": [],
   "source": [
    "# Separando conjuntos de treinamento e de teste\n",
    "df_train, df_valid = train_test_split(df, test_size=0.25, random_state=12345)"
   ]
  },
  {
   "cell_type": "code",
   "execution_count": 16,
   "metadata": {},
   "outputs": [],
   "source": [
    "# Separando features de target\n",
    "train_features = df_train.drop([\"Price\"], axis=1)\n",
    "valid_features = df_valid.drop([\"Price\"], axis=1)\n",
    "train_target = df_train[\"Price\"]\n",
    "valid_target = df_valid[\"Price\"]"
   ]
  },
  {
   "cell_type": "code",
   "execution_count": 17,
   "metadata": {},
   "outputs": [],
   "source": [
    "# Fazendo codificação de rótulos\n",
    "train_features_encoded = train_features.copy()\n",
    "valid_features_encoded = valid_features.copy()"
   ]
  },
  {
   "cell_type": "code",
   "execution_count": 18,
   "metadata": {},
   "outputs": [],
   "source": [
    "cols = [\"VehicleType\", \"Gearbox\", \"Model\", \"FuelType\", \"Brand\", \"NotRepaired\"]\n",
    "\n",
    "for col in cols:\n",
    "    train_features_encoded[col] = LabelEncoder().fit_transform(\n",
    "        train_features_encoded[col]\n",
    "    )\n",
    "    valid_features_encoded[col] = LabelEncoder().fit_transform(\n",
    "        valid_features_encoded[col]\n",
    "    )"
   ]
  },
  {
   "cell_type": "code",
   "execution_count": 19,
   "metadata": {},
   "outputs": [],
   "source": [
    "# Fazendo codificação de datas\n",
    "dfs = [train_features_encoded, valid_features_encoded]\n",
    "\n",
    "for df in dfs:\n",
    "    df[\"CreatedDay\"] = df[\"DateCreated\"].dt.day\n",
    "    df[\"CreatedMonth\"] = df[\"DateCreated\"].dt.month\n",
    "    df[\"CreatedYear\"] = df[\"DateCreated\"].dt.year\n",
    "    df[\"LastSeenDay\"] = df[\"LastSeen\"].dt.day\n",
    "    df[\"LastSeenMonth\"] = df[\"LastSeen\"].dt.month\n",
    "    df[\"LastSeenYear\"] = df[\"LastSeen\"].dt.year\n",
    "    df[\"LastSeenHour\"] = df[\"LastSeen\"].dt.hour\n",
    "\n",
    "train_features_encoded = train_features_encoded.drop(\n",
    "    [\"LastSeen\", \"DateCreated\"], axis=1\n",
    ")\n",
    "valid_features_encoded = valid_features_encoded.drop(\n",
    "    [\"LastSeen\", \"DateCreated\"], axis=1\n",
    ")"
   ]
  },
  {
   "cell_type": "code",
   "execution_count": 20,
   "metadata": {},
   "outputs": [
    {
     "name": "stdout",
     "output_type": "stream",
     "text": [
      "<class 'pandas.core.frame.DataFrame'>\n",
      "Index: 265776 entries, 25945 to 217570\n",
      "Data columns (total 19 columns):\n",
      " #   Column             Non-Null Count   Dtype\n",
      "---  ------             --------------   -----\n",
      " 0   VehicleType        265776 non-null  int64\n",
      " 1   RegistrationYear   265776 non-null  int64\n",
      " 2   Gearbox            265776 non-null  int64\n",
      " 3   Power              265776 non-null  int64\n",
      " 4   Model              265776 non-null  int64\n",
      " 5   Mileage            265776 non-null  int64\n",
      " 6   RegistrationMonth  265776 non-null  int64\n",
      " 7   FuelType           265776 non-null  int64\n",
      " 8   Brand              265776 non-null  int64\n",
      " 9   NotRepaired        265776 non-null  int64\n",
      " 10  NumberOfPictures   265776 non-null  int64\n",
      " 11  PostalCode         265776 non-null  int64\n",
      " 12  CreatedDay         265776 non-null  int32\n",
      " 13  CreatedMonth       265776 non-null  int32\n",
      " 14  CreatedYear        265776 non-null  int32\n",
      " 15  LastSeenDay        265776 non-null  int32\n",
      " 16  LastSeenMonth      265776 non-null  int32\n",
      " 17  LastSeenYear       265776 non-null  int32\n",
      " 18  LastSeenHour       265776 non-null  int32\n",
      "dtypes: int32(7), int64(12)\n",
      "memory usage: 33.5 MB\n"
     ]
    }
   ],
   "source": [
    "train_features_encoded.info()"
   ]
  },
  {
   "cell_type": "markdown",
   "metadata": {},
   "source": [
    "### Regressão Linear"
   ]
  },
  {
   "cell_type": "code",
   "execution_count": 21,
   "metadata": {},
   "outputs": [
    {
     "name": "stdout",
     "output_type": "stream",
     "text": [
      "CPU times: total: 0 ns\n",
      "Wall time: 0 ns\n"
     ]
    },
    {
     "data": {
      "text/html": [
       "<style>#sk-container-id-1 {\n",
       "  /* Definition of color scheme common for light and dark mode */\n",
       "  --sklearn-color-text: #000;\n",
       "  --sklearn-color-text-muted: #666;\n",
       "  --sklearn-color-line: gray;\n",
       "  /* Definition of color scheme for unfitted estimators */\n",
       "  --sklearn-color-unfitted-level-0: #fff5e6;\n",
       "  --sklearn-color-unfitted-level-1: #f6e4d2;\n",
       "  --sklearn-color-unfitted-level-2: #ffe0b3;\n",
       "  --sklearn-color-unfitted-level-3: chocolate;\n",
       "  /* Definition of color scheme for fitted estimators */\n",
       "  --sklearn-color-fitted-level-0: #f0f8ff;\n",
       "  --sklearn-color-fitted-level-1: #d4ebff;\n",
       "  --sklearn-color-fitted-level-2: #b3dbfd;\n",
       "  --sklearn-color-fitted-level-3: cornflowerblue;\n",
       "\n",
       "  /* Specific color for light theme */\n",
       "  --sklearn-color-text-on-default-background: var(--sg-text-color, var(--theme-code-foreground, var(--jp-content-font-color1, black)));\n",
       "  --sklearn-color-background: var(--sg-background-color, var(--theme-background, var(--jp-layout-color0, white)));\n",
       "  --sklearn-color-border-box: var(--sg-text-color, var(--theme-code-foreground, var(--jp-content-font-color1, black)));\n",
       "  --sklearn-color-icon: #696969;\n",
       "\n",
       "  @media (prefers-color-scheme: dark) {\n",
       "    /* Redefinition of color scheme for dark theme */\n",
       "    --sklearn-color-text-on-default-background: var(--sg-text-color, var(--theme-code-foreground, var(--jp-content-font-color1, white)));\n",
       "    --sklearn-color-background: var(--sg-background-color, var(--theme-background, var(--jp-layout-color0, #111)));\n",
       "    --sklearn-color-border-box: var(--sg-text-color, var(--theme-code-foreground, var(--jp-content-font-color1, white)));\n",
       "    --sklearn-color-icon: #878787;\n",
       "  }\n",
       "}\n",
       "\n",
       "#sk-container-id-1 {\n",
       "  color: var(--sklearn-color-text);\n",
       "}\n",
       "\n",
       "#sk-container-id-1 pre {\n",
       "  padding: 0;\n",
       "}\n",
       "\n",
       "#sk-container-id-1 input.sk-hidden--visually {\n",
       "  border: 0;\n",
       "  clip: rect(1px 1px 1px 1px);\n",
       "  clip: rect(1px, 1px, 1px, 1px);\n",
       "  height: 1px;\n",
       "  margin: -1px;\n",
       "  overflow: hidden;\n",
       "  padding: 0;\n",
       "  position: absolute;\n",
       "  width: 1px;\n",
       "}\n",
       "\n",
       "#sk-container-id-1 div.sk-dashed-wrapped {\n",
       "  border: 1px dashed var(--sklearn-color-line);\n",
       "  margin: 0 0.4em 0.5em 0.4em;\n",
       "  box-sizing: border-box;\n",
       "  padding-bottom: 0.4em;\n",
       "  background-color: var(--sklearn-color-background);\n",
       "}\n",
       "\n",
       "#sk-container-id-1 div.sk-container {\n",
       "  /* jupyter's `normalize.less` sets `[hidden] { display: none; }`\n",
       "     but bootstrap.min.css set `[hidden] { display: none !important; }`\n",
       "     so we also need the `!important` here to be able to override the\n",
       "     default hidden behavior on the sphinx rendered scikit-learn.org.\n",
       "     See: https://github.com/scikit-learn/scikit-learn/issues/21755 */\n",
       "  display: inline-block !important;\n",
       "  position: relative;\n",
       "}\n",
       "\n",
       "#sk-container-id-1 div.sk-text-repr-fallback {\n",
       "  display: none;\n",
       "}\n",
       "\n",
       "div.sk-parallel-item,\n",
       "div.sk-serial,\n",
       "div.sk-item {\n",
       "  /* draw centered vertical line to link estimators */\n",
       "  background-image: linear-gradient(var(--sklearn-color-text-on-default-background), var(--sklearn-color-text-on-default-background));\n",
       "  background-size: 2px 100%;\n",
       "  background-repeat: no-repeat;\n",
       "  background-position: center center;\n",
       "}\n",
       "\n",
       "/* Parallel-specific style estimator block */\n",
       "\n",
       "#sk-container-id-1 div.sk-parallel-item::after {\n",
       "  content: \"\";\n",
       "  width: 100%;\n",
       "  border-bottom: 2px solid var(--sklearn-color-text-on-default-background);\n",
       "  flex-grow: 1;\n",
       "}\n",
       "\n",
       "#sk-container-id-1 div.sk-parallel {\n",
       "  display: flex;\n",
       "  align-items: stretch;\n",
       "  justify-content: center;\n",
       "  background-color: var(--sklearn-color-background);\n",
       "  position: relative;\n",
       "}\n",
       "\n",
       "#sk-container-id-1 div.sk-parallel-item {\n",
       "  display: flex;\n",
       "  flex-direction: column;\n",
       "}\n",
       "\n",
       "#sk-container-id-1 div.sk-parallel-item:first-child::after {\n",
       "  align-self: flex-end;\n",
       "  width: 50%;\n",
       "}\n",
       "\n",
       "#sk-container-id-1 div.sk-parallel-item:last-child::after {\n",
       "  align-self: flex-start;\n",
       "  width: 50%;\n",
       "}\n",
       "\n",
       "#sk-container-id-1 div.sk-parallel-item:only-child::after {\n",
       "  width: 0;\n",
       "}\n",
       "\n",
       "/* Serial-specific style estimator block */\n",
       "\n",
       "#sk-container-id-1 div.sk-serial {\n",
       "  display: flex;\n",
       "  flex-direction: column;\n",
       "  align-items: center;\n",
       "  background-color: var(--sklearn-color-background);\n",
       "  padding-right: 1em;\n",
       "  padding-left: 1em;\n",
       "}\n",
       "\n",
       "\n",
       "/* Toggleable style: style used for estimator/Pipeline/ColumnTransformer box that is\n",
       "clickable and can be expanded/collapsed.\n",
       "- Pipeline and ColumnTransformer use this feature and define the default style\n",
       "- Estimators will overwrite some part of the style using the `sk-estimator` class\n",
       "*/\n",
       "\n",
       "/* Pipeline and ColumnTransformer style (default) */\n",
       "\n",
       "#sk-container-id-1 div.sk-toggleable {\n",
       "  /* Default theme specific background. It is overwritten whether we have a\n",
       "  specific estimator or a Pipeline/ColumnTransformer */\n",
       "  background-color: var(--sklearn-color-background);\n",
       "}\n",
       "\n",
       "/* Toggleable label */\n",
       "#sk-container-id-1 label.sk-toggleable__label {\n",
       "  cursor: pointer;\n",
       "  display: flex;\n",
       "  width: 100%;\n",
       "  margin-bottom: 0;\n",
       "  padding: 0.5em;\n",
       "  box-sizing: border-box;\n",
       "  text-align: center;\n",
       "  align-items: start;\n",
       "  justify-content: space-between;\n",
       "  gap: 0.5em;\n",
       "}\n",
       "\n",
       "#sk-container-id-1 label.sk-toggleable__label .caption {\n",
       "  font-size: 0.6rem;\n",
       "  font-weight: lighter;\n",
       "  color: var(--sklearn-color-text-muted);\n",
       "}\n",
       "\n",
       "#sk-container-id-1 label.sk-toggleable__label-arrow:before {\n",
       "  /* Arrow on the left of the label */\n",
       "  content: \"▸\";\n",
       "  float: left;\n",
       "  margin-right: 0.25em;\n",
       "  color: var(--sklearn-color-icon);\n",
       "}\n",
       "\n",
       "#sk-container-id-1 label.sk-toggleable__label-arrow:hover:before {\n",
       "  color: var(--sklearn-color-text);\n",
       "}\n",
       "\n",
       "/* Toggleable content - dropdown */\n",
       "\n",
       "#sk-container-id-1 div.sk-toggleable__content {\n",
       "  max-height: 0;\n",
       "  max-width: 0;\n",
       "  overflow: hidden;\n",
       "  text-align: left;\n",
       "  /* unfitted */\n",
       "  background-color: var(--sklearn-color-unfitted-level-0);\n",
       "}\n",
       "\n",
       "#sk-container-id-1 div.sk-toggleable__content.fitted {\n",
       "  /* fitted */\n",
       "  background-color: var(--sklearn-color-fitted-level-0);\n",
       "}\n",
       "\n",
       "#sk-container-id-1 div.sk-toggleable__content pre {\n",
       "  margin: 0.2em;\n",
       "  border-radius: 0.25em;\n",
       "  color: var(--sklearn-color-text);\n",
       "  /* unfitted */\n",
       "  background-color: var(--sklearn-color-unfitted-level-0);\n",
       "}\n",
       "\n",
       "#sk-container-id-1 div.sk-toggleable__content.fitted pre {\n",
       "  /* unfitted */\n",
       "  background-color: var(--sklearn-color-fitted-level-0);\n",
       "}\n",
       "\n",
       "#sk-container-id-1 input.sk-toggleable__control:checked~div.sk-toggleable__content {\n",
       "  /* Expand drop-down */\n",
       "  max-height: 200px;\n",
       "  max-width: 100%;\n",
       "  overflow: auto;\n",
       "}\n",
       "\n",
       "#sk-container-id-1 input.sk-toggleable__control:checked~label.sk-toggleable__label-arrow:before {\n",
       "  content: \"▾\";\n",
       "}\n",
       "\n",
       "/* Pipeline/ColumnTransformer-specific style */\n",
       "\n",
       "#sk-container-id-1 div.sk-label input.sk-toggleable__control:checked~label.sk-toggleable__label {\n",
       "  color: var(--sklearn-color-text);\n",
       "  background-color: var(--sklearn-color-unfitted-level-2);\n",
       "}\n",
       "\n",
       "#sk-container-id-1 div.sk-label.fitted input.sk-toggleable__control:checked~label.sk-toggleable__label {\n",
       "  background-color: var(--sklearn-color-fitted-level-2);\n",
       "}\n",
       "\n",
       "/* Estimator-specific style */\n",
       "\n",
       "/* Colorize estimator box */\n",
       "#sk-container-id-1 div.sk-estimator input.sk-toggleable__control:checked~label.sk-toggleable__label {\n",
       "  /* unfitted */\n",
       "  background-color: var(--sklearn-color-unfitted-level-2);\n",
       "}\n",
       "\n",
       "#sk-container-id-1 div.sk-estimator.fitted input.sk-toggleable__control:checked~label.sk-toggleable__label {\n",
       "  /* fitted */\n",
       "  background-color: var(--sklearn-color-fitted-level-2);\n",
       "}\n",
       "\n",
       "#sk-container-id-1 div.sk-label label.sk-toggleable__label,\n",
       "#sk-container-id-1 div.sk-label label {\n",
       "  /* The background is the default theme color */\n",
       "  color: var(--sklearn-color-text-on-default-background);\n",
       "}\n",
       "\n",
       "/* On hover, darken the color of the background */\n",
       "#sk-container-id-1 div.sk-label:hover label.sk-toggleable__label {\n",
       "  color: var(--sklearn-color-text);\n",
       "  background-color: var(--sklearn-color-unfitted-level-2);\n",
       "}\n",
       "\n",
       "/* Label box, darken color on hover, fitted */\n",
       "#sk-container-id-1 div.sk-label.fitted:hover label.sk-toggleable__label.fitted {\n",
       "  color: var(--sklearn-color-text);\n",
       "  background-color: var(--sklearn-color-fitted-level-2);\n",
       "}\n",
       "\n",
       "/* Estimator label */\n",
       "\n",
       "#sk-container-id-1 div.sk-label label {\n",
       "  font-family: monospace;\n",
       "  font-weight: bold;\n",
       "  display: inline-block;\n",
       "  line-height: 1.2em;\n",
       "}\n",
       "\n",
       "#sk-container-id-1 div.sk-label-container {\n",
       "  text-align: center;\n",
       "}\n",
       "\n",
       "/* Estimator-specific */\n",
       "#sk-container-id-1 div.sk-estimator {\n",
       "  font-family: monospace;\n",
       "  border: 1px dotted var(--sklearn-color-border-box);\n",
       "  border-radius: 0.25em;\n",
       "  box-sizing: border-box;\n",
       "  margin-bottom: 0.5em;\n",
       "  /* unfitted */\n",
       "  background-color: var(--sklearn-color-unfitted-level-0);\n",
       "}\n",
       "\n",
       "#sk-container-id-1 div.sk-estimator.fitted {\n",
       "  /* fitted */\n",
       "  background-color: var(--sklearn-color-fitted-level-0);\n",
       "}\n",
       "\n",
       "/* on hover */\n",
       "#sk-container-id-1 div.sk-estimator:hover {\n",
       "  /* unfitted */\n",
       "  background-color: var(--sklearn-color-unfitted-level-2);\n",
       "}\n",
       "\n",
       "#sk-container-id-1 div.sk-estimator.fitted:hover {\n",
       "  /* fitted */\n",
       "  background-color: var(--sklearn-color-fitted-level-2);\n",
       "}\n",
       "\n",
       "/* Specification for estimator info (e.g. \"i\" and \"?\") */\n",
       "\n",
       "/* Common style for \"i\" and \"?\" */\n",
       "\n",
       ".sk-estimator-doc-link,\n",
       "a:link.sk-estimator-doc-link,\n",
       "a:visited.sk-estimator-doc-link {\n",
       "  float: right;\n",
       "  font-size: smaller;\n",
       "  line-height: 1em;\n",
       "  font-family: monospace;\n",
       "  background-color: var(--sklearn-color-background);\n",
       "  border-radius: 1em;\n",
       "  height: 1em;\n",
       "  width: 1em;\n",
       "  text-decoration: none !important;\n",
       "  margin-left: 0.5em;\n",
       "  text-align: center;\n",
       "  /* unfitted */\n",
       "  border: var(--sklearn-color-unfitted-level-1) 1pt solid;\n",
       "  color: var(--sklearn-color-unfitted-level-1);\n",
       "}\n",
       "\n",
       ".sk-estimator-doc-link.fitted,\n",
       "a:link.sk-estimator-doc-link.fitted,\n",
       "a:visited.sk-estimator-doc-link.fitted {\n",
       "  /* fitted */\n",
       "  border: var(--sklearn-color-fitted-level-1) 1pt solid;\n",
       "  color: var(--sklearn-color-fitted-level-1);\n",
       "}\n",
       "\n",
       "/* On hover */\n",
       "div.sk-estimator:hover .sk-estimator-doc-link:hover,\n",
       ".sk-estimator-doc-link:hover,\n",
       "div.sk-label-container:hover .sk-estimator-doc-link:hover,\n",
       ".sk-estimator-doc-link:hover {\n",
       "  /* unfitted */\n",
       "  background-color: var(--sklearn-color-unfitted-level-3);\n",
       "  color: var(--sklearn-color-background);\n",
       "  text-decoration: none;\n",
       "}\n",
       "\n",
       "div.sk-estimator.fitted:hover .sk-estimator-doc-link.fitted:hover,\n",
       ".sk-estimator-doc-link.fitted:hover,\n",
       "div.sk-label-container:hover .sk-estimator-doc-link.fitted:hover,\n",
       ".sk-estimator-doc-link.fitted:hover {\n",
       "  /* fitted */\n",
       "  background-color: var(--sklearn-color-fitted-level-3);\n",
       "  color: var(--sklearn-color-background);\n",
       "  text-decoration: none;\n",
       "}\n",
       "\n",
       "/* Span, style for the box shown on hovering the info icon */\n",
       ".sk-estimator-doc-link span {\n",
       "  display: none;\n",
       "  z-index: 9999;\n",
       "  position: relative;\n",
       "  font-weight: normal;\n",
       "  right: .2ex;\n",
       "  padding: .5ex;\n",
       "  margin: .5ex;\n",
       "  width: min-content;\n",
       "  min-width: 20ex;\n",
       "  max-width: 50ex;\n",
       "  color: var(--sklearn-color-text);\n",
       "  box-shadow: 2pt 2pt 4pt #999;\n",
       "  /* unfitted */\n",
       "  background: var(--sklearn-color-unfitted-level-0);\n",
       "  border: .5pt solid var(--sklearn-color-unfitted-level-3);\n",
       "}\n",
       "\n",
       ".sk-estimator-doc-link.fitted span {\n",
       "  /* fitted */\n",
       "  background: var(--sklearn-color-fitted-level-0);\n",
       "  border: var(--sklearn-color-fitted-level-3);\n",
       "}\n",
       "\n",
       ".sk-estimator-doc-link:hover span {\n",
       "  display: block;\n",
       "}\n",
       "\n",
       "/* \"?\"-specific style due to the `<a>` HTML tag */\n",
       "\n",
       "#sk-container-id-1 a.estimator_doc_link {\n",
       "  float: right;\n",
       "  font-size: 1rem;\n",
       "  line-height: 1em;\n",
       "  font-family: monospace;\n",
       "  background-color: var(--sklearn-color-background);\n",
       "  border-radius: 1rem;\n",
       "  height: 1rem;\n",
       "  width: 1rem;\n",
       "  text-decoration: none;\n",
       "  /* unfitted */\n",
       "  color: var(--sklearn-color-unfitted-level-1);\n",
       "  border: var(--sklearn-color-unfitted-level-1) 1pt solid;\n",
       "}\n",
       "\n",
       "#sk-container-id-1 a.estimator_doc_link.fitted {\n",
       "  /* fitted */\n",
       "  border: var(--sklearn-color-fitted-level-1) 1pt solid;\n",
       "  color: var(--sklearn-color-fitted-level-1);\n",
       "}\n",
       "\n",
       "/* On hover */\n",
       "#sk-container-id-1 a.estimator_doc_link:hover {\n",
       "  /* unfitted */\n",
       "  background-color: var(--sklearn-color-unfitted-level-3);\n",
       "  color: var(--sklearn-color-background);\n",
       "  text-decoration: none;\n",
       "}\n",
       "\n",
       "#sk-container-id-1 a.estimator_doc_link.fitted:hover {\n",
       "  /* fitted */\n",
       "  background-color: var(--sklearn-color-fitted-level-3);\n",
       "}\n",
       "</style><div id=\"sk-container-id-1\" class=\"sk-top-container\"><div class=\"sk-text-repr-fallback\"><pre>LinearRegression()</pre><b>In a Jupyter environment, please rerun this cell to show the HTML representation or trust the notebook. <br />On GitHub, the HTML representation is unable to render, please try loading this page with nbviewer.org.</b></div><div class=\"sk-container\" hidden><div class=\"sk-item\"><div class=\"sk-estimator fitted sk-toggleable\"><input class=\"sk-toggleable__control sk-hidden--visually\" id=\"sk-estimator-id-1\" type=\"checkbox\" checked><label for=\"sk-estimator-id-1\" class=\"sk-toggleable__label fitted sk-toggleable__label-arrow\"><div><div>LinearRegression</div></div><div><a class=\"sk-estimator-doc-link fitted\" rel=\"noreferrer\" target=\"_blank\" href=\"https://scikit-learn.org/1.6/modules/generated/sklearn.linear_model.LinearRegression.html\">?<span>Documentation for LinearRegression</span></a><span class=\"sk-estimator-doc-link fitted\">i<span>Fitted</span></span></div></label><div class=\"sk-toggleable__content fitted\"><pre>LinearRegression()</pre></div> </div></div></div></div>"
      ],
      "text/plain": [
       "LinearRegression()"
      ]
     },
     "execution_count": 21,
     "metadata": {},
     "output_type": "execute_result"
    }
   ],
   "source": [
    "%time\n",
    "# Criando modelo de Regressão Linear para Prova Real dos outros modelos\n",
    "LRmodel = LinearRegression()\n",
    "\n",
    "LRmodel.fit(train_features_encoded, train_target)"
   ]
  },
  {
   "cell_type": "markdown",
   "metadata": {},
   "source": [
    "- Tempo de treinamento para modelo de Regressão Linear: **5.96 µs**."
   ]
  },
  {
   "cell_type": "markdown",
   "metadata": {},
   "source": [
    "### Gradient Boosting"
   ]
  },
  {
   "cell_type": "code",
   "execution_count": 22,
   "metadata": {},
   "outputs": [],
   "source": [
    "# Convertendo os dados para o formato Dataset\n",
    "train_data = lgb.Dataset(train_features_encoded, label=train_target)\n",
    "valid_data = lgb.Dataset(\n",
    "    valid_features_encoded, label=valid_target, reference=train_data\n",
    ")"
   ]
  },
  {
   "cell_type": "code",
   "execution_count": 23,
   "metadata": {},
   "outputs": [],
   "source": [
    "# Definindo parâmetros\n",
    "params = {\n",
    "    \"learning_rate\": 0.1,\n",
    "    \"seed\": 12345,\n",
    "    \"verbosity\": 2,\n",
    "    \"num_leaves\": 2000,\n",
    "    \"min_data_in_leaf\": 100,\n",
    "    \"min_data_per_group\": 2000,\n",
    "}"
   ]
  },
  {
   "cell_type": "code",
   "execution_count": 24,
   "metadata": {
    "scrolled": true
   },
   "outputs": [
    {
     "name": "stdout",
     "output_type": "stream",
     "text": [
      "[LightGBM] [Debug] Dataset::GetMultiBinFromSparseFeatures: sparse rate 0.764165\n",
      "[LightGBM] [Debug] Dataset::GetMultiBinFromAllFeatures: sparse rate 0.164773\n",
      "[LightGBM] [Debug] init for col-wise cost 0.016147 seconds, init for row-wise cost 0.050676 seconds\n",
      "[LightGBM] [Info] Auto-choosing col-wise multi-threading, the overhead of testing was 0.068950 seconds.\n",
      "You can set `force_col_wise=true` to remove the overhead.\n",
      "[LightGBM] [Info] Total Bins 1034\n",
      "[LightGBM] [Info] Number of data points in the train set: 265776, number of used features: 16\n",
      "[LightGBM] [Info] Start training from score 4413.365319\n",
      "[LightGBM] [Debug] Trained a tree with leaves = 2000 and depth = 25\n",
      "[LightGBM] [Debug] Trained a tree with leaves = 2000 and depth = 24\n",
      "[LightGBM] [Debug] Trained a tree with leaves = 2000 and depth = 27\n",
      "[LightGBM] [Warning] No further splits with positive gain, best gain: -inf\n",
      "[LightGBM] [Debug] Trained a tree with leaves = 1998 and depth = 25\n",
      "[LightGBM] [Debug] Trained a tree with leaves = 2000 and depth = 25\n",
      "[LightGBM] [Warning] No further splits with positive gain, best gain: -inf\n",
      "[LightGBM] [Debug] Trained a tree with leaves = 1999 and depth = 26\n",
      "[LightGBM] [Debug] Trained a tree with leaves = 2000 and depth = 27\n",
      "[LightGBM] [Debug] Trained a tree with leaves = 2000 and depth = 27\n",
      "[LightGBM] [Debug] Trained a tree with leaves = 2000 and depth = 29\n",
      "[LightGBM] [Debug] Trained a tree with leaves = 2000 and depth = 23\n",
      "[LightGBM] [Warning] No further splits with positive gain, best gain: -inf\n",
      "[LightGBM] [Debug] Trained a tree with leaves = 1999 and depth = 26\n",
      "[LightGBM] [Debug] Trained a tree with leaves = 2000 and depth = 30\n",
      "[LightGBM] [Debug] Trained a tree with leaves = 2000 and depth = 26\n",
      "[LightGBM] [Warning] No further splits with positive gain, best gain: -inf\n",
      "[LightGBM] [Debug] Trained a tree with leaves = 1993 and depth = 25\n",
      "[LightGBM] [Debug] Trained a tree with leaves = 2000 and depth = 28\n",
      "[LightGBM] [Debug] Trained a tree with leaves = 2000 and depth = 26\n",
      "[LightGBM] [Debug] Trained a tree with leaves = 2000 and depth = 28\n",
      "[LightGBM] [Debug] Trained a tree with leaves = 2000 and depth = 26\n",
      "[LightGBM] [Debug] Trained a tree with leaves = 2000 and depth = 31\n",
      "[LightGBM] [Debug] Trained a tree with leaves = 2000 and depth = 32\n",
      "[LightGBM] [Debug] Trained a tree with leaves = 2000 and depth = 33\n",
      "[LightGBM] [Debug] Trained a tree with leaves = 2000 and depth = 34\n",
      "[LightGBM] [Debug] Trained a tree with leaves = 2000 and depth = 29\n",
      "[LightGBM] [Debug] Trained a tree with leaves = 2000 and depth = 32\n",
      "[LightGBM] [Debug] Trained a tree with leaves = 2000 and depth = 31\n",
      "[LightGBM] [Debug] Trained a tree with leaves = 2000 and depth = 32\n",
      "[LightGBM] [Debug] Trained a tree with leaves = 2000 and depth = 37\n",
      "[LightGBM] [Debug] Trained a tree with leaves = 2000 and depth = 36\n",
      "[LightGBM] [Debug] Trained a tree with leaves = 2000 and depth = 32\n",
      "[LightGBM] [Debug] Trained a tree with leaves = 2000 and depth = 34\n",
      "[LightGBM] [Debug] Trained a tree with leaves = 2000 and depth = 32\n",
      "[LightGBM] [Debug] Trained a tree with leaves = 2000 and depth = 38\n",
      "[LightGBM] [Debug] Trained a tree with leaves = 2000 and depth = 37\n",
      "[LightGBM] [Debug] Trained a tree with leaves = 2000 and depth = 35\n",
      "[LightGBM] [Debug] Trained a tree with leaves = 2000 and depth = 43\n",
      "[LightGBM] [Warning] No further splits with positive gain, best gain: -inf\n",
      "[LightGBM] [Debug] Trained a tree with leaves = 1997 and depth = 35\n",
      "[LightGBM] [Debug] Trained a tree with leaves = 2000 and depth = 44\n",
      "[LightGBM] [Debug] Trained a tree with leaves = 2000 and depth = 42\n",
      "[LightGBM] [Debug] Trained a tree with leaves = 2000 and depth = 37\n",
      "[LightGBM] [Debug] Trained a tree with leaves = 2000 and depth = 48\n",
      "[LightGBM] [Debug] Trained a tree with leaves = 2000 and depth = 40\n",
      "[LightGBM] [Debug] Trained a tree with leaves = 2000 and depth = 39\n",
      "[LightGBM] [Debug] Trained a tree with leaves = 2000 and depth = 44\n",
      "[LightGBM] [Debug] Trained a tree with leaves = 2000 and depth = 46\n",
      "[LightGBM] [Debug] Trained a tree with leaves = 2000 and depth = 45\n",
      "[LightGBM] [Debug] Trained a tree with leaves = 2000 and depth = 45\n",
      "[LightGBM] [Debug] Trained a tree with leaves = 2000 and depth = 42\n",
      "[LightGBM] [Debug] Trained a tree with leaves = 2000 and depth = 45\n",
      "[LightGBM] [Debug] Trained a tree with leaves = 2000 and depth = 50\n",
      "[LightGBM] [Debug] Trained a tree with leaves = 2000 and depth = 40\n",
      "[LightGBM] [Debug] Trained a tree with leaves = 2000 and depth = 45\n",
      "[LightGBM] [Debug] Trained a tree with leaves = 2000 and depth = 48\n",
      "[LightGBM] [Debug] Trained a tree with leaves = 2000 and depth = 48\n",
      "[LightGBM] [Debug] Trained a tree with leaves = 2000 and depth = 47\n",
      "[LightGBM] [Debug] Trained a tree with leaves = 2000 and depth = 58\n",
      "[LightGBM] [Debug] Trained a tree with leaves = 2000 and depth = 44\n",
      "[LightGBM] [Debug] Trained a tree with leaves = 2000 and depth = 58\n",
      "[LightGBM] [Debug] Trained a tree with leaves = 2000 and depth = 46\n",
      "[LightGBM] [Debug] Trained a tree with leaves = 2000 and depth = 53\n",
      "[LightGBM] [Debug] Trained a tree with leaves = 2000 and depth = 64\n",
      "[LightGBM] [Debug] Trained a tree with leaves = 2000 and depth = 76\n",
      "[LightGBM] [Debug] Trained a tree with leaves = 2000 and depth = 55\n",
      "[LightGBM] [Debug] Trained a tree with leaves = 2000 and depth = 56\n",
      "[LightGBM] [Debug] Trained a tree with leaves = 2000 and depth = 54\n",
      "[LightGBM] [Debug] Trained a tree with leaves = 2000 and depth = 51\n",
      "[LightGBM] [Debug] Trained a tree with leaves = 2000 and depth = 79\n",
      "[LightGBM] [Debug] Trained a tree with leaves = 2000 and depth = 63\n",
      "[LightGBM] [Debug] Trained a tree with leaves = 2000 and depth = 68\n",
      "[LightGBM] [Debug] Trained a tree with leaves = 2000 and depth = 51\n",
      "[LightGBM] [Debug] Trained a tree with leaves = 2000 and depth = 57\n",
      "[LightGBM] [Debug] Trained a tree with leaves = 2000 and depth = 69\n",
      "[LightGBM] [Debug] Trained a tree with leaves = 2000 and depth = 61\n",
      "[LightGBM] [Debug] Trained a tree with leaves = 2000 and depth = 75\n",
      "[LightGBM] [Debug] Trained a tree with leaves = 2000 and depth = 83\n",
      "[LightGBM] [Debug] Trained a tree with leaves = 2000 and depth = 59\n",
      "[LightGBM] [Debug] Trained a tree with leaves = 2000 and depth = 62\n",
      "[LightGBM] [Debug] Trained a tree with leaves = 2000 and depth = 79\n",
      "[LightGBM] [Debug] Trained a tree with leaves = 2000 and depth = 80\n",
      "[LightGBM] [Debug] Trained a tree with leaves = 2000 and depth = 72\n",
      "[LightGBM] [Debug] Trained a tree with leaves = 2000 and depth = 57\n",
      "[LightGBM] [Debug] Trained a tree with leaves = 2000 and depth = 75\n",
      "[LightGBM] [Debug] Trained a tree with leaves = 2000 and depth = 63\n",
      "[LightGBM] [Debug] Trained a tree with leaves = 2000 and depth = 75\n",
      "[LightGBM] [Debug] Trained a tree with leaves = 2000 and depth = 91\n",
      "[LightGBM] [Debug] Trained a tree with leaves = 2000 and depth = 75\n",
      "[LightGBM] [Warning] No further splits with positive gain, best gain: -inf\n",
      "[LightGBM] [Debug] Trained a tree with leaves = 1991 and depth = 66\n",
      "[LightGBM] [Debug] Trained a tree with leaves = 2000 and depth = 55\n",
      "[LightGBM] [Debug] Trained a tree with leaves = 2000 and depth = 59\n",
      "[LightGBM] [Warning] No further splits with positive gain, best gain: -inf\n",
      "[LightGBM] [Debug] Trained a tree with leaves = 1998 and depth = 70\n",
      "[LightGBM] [Debug] Trained a tree with leaves = 2000 and depth = 57\n",
      "[LightGBM] [Debug] Trained a tree with leaves = 2000 and depth = 69\n",
      "[LightGBM] [Debug] Trained a tree with leaves = 2000 and depth = 64\n",
      "[LightGBM] [Debug] Trained a tree with leaves = 2000 and depth = 77\n",
      "[LightGBM] [Debug] Trained a tree with leaves = 2000 and depth = 89\n",
      "[LightGBM] [Debug] Trained a tree with leaves = 2000 and depth = 78\n",
      "[LightGBM] [Warning] No further splits with positive gain, best gain: -inf\n",
      "[LightGBM] [Debug] Trained a tree with leaves = 1997 and depth = 67\n",
      "[LightGBM] [Debug] Trained a tree with leaves = 2000 and depth = 74\n",
      "[LightGBM] [Debug] Trained a tree with leaves = 2000 and depth = 61\n",
      "[LightGBM] [Debug] Trained a tree with leaves = 2000 and depth = 58\n",
      "[LightGBM] [Debug] Trained a tree with leaves = 2000 and depth = 81\n",
      "Tempo de treinamento: 48.56 segundos\n"
     ]
    }
   ],
   "source": [
    "# Medindo o tempo de treinamento\n",
    "start_time = time.time()\n",
    "\n",
    "# Treinando o modelo\n",
    "n_iters = 100\n",
    "lgb_model = lgb.train(params, train_data, n_iters, valid_sets=[valid_data])\n",
    "\n",
    "# Calculando e exibindo o tempo de treinamento\n",
    "end_time = time.time()\n",
    "training_time = end_time - start_time\n",
    "print(f\"Tempo de treinamento: {training_time:.2f} segundos\")"
   ]
  },
  {
   "cell_type": "markdown",
   "metadata": {},
   "source": [
    "- Tempo de treinamento para modelo de Gradient Boosting: **309.19 s**."
   ]
  },
  {
   "cell_type": "markdown",
   "metadata": {},
   "source": [
    "### Floresta de Regressão"
   ]
  },
  {
   "cell_type": "code",
   "execution_count": 25,
   "metadata": {},
   "outputs": [],
   "source": [
    "# Treinando o modelo de Floresta de Regressão\n",
    "RFmodel_1 = RandomForestRegressor(\n",
    "    random_state=12345, warm_start=True, max_features=\"sqrt\"\n",
    ")"
   ]
  },
  {
   "cell_type": "code",
   "execution_count": null,
   "metadata": {},
   "outputs": [
    {
     "name": "stdout",
     "output_type": "stream",
     "text": [
      "Fitting 5 folds for each of 48 candidates, totalling 240 fits\n",
      "[CV 1/5] END max_depth=25, max_leaf_nodes=100, min_samples_leaf=50, min_samples_split=70, n_estimators=5;, score=-5706153.429 total time=   2.5s\n",
      "[CV 2/5] END max_depth=25, max_leaf_nodes=100, min_samples_leaf=50, min_samples_split=70, n_estimators=5;, score=-5706874.162 total time=   2.8s\n",
      "[CV 3/5] END max_depth=25, max_leaf_nodes=100, min_samples_leaf=50, min_samples_split=70, n_estimators=5;, score=-5757108.211 total time=   1.9s\n",
      "[CV 4/5] END max_depth=25, max_leaf_nodes=100, min_samples_leaf=50, min_samples_split=70, n_estimators=5;, score=-5516969.405 total time=   1.7s\n",
      "[CV 5/5] END max_depth=25, max_leaf_nodes=100, min_samples_leaf=50, min_samples_split=70, n_estimators=5;, score=-5886508.924 total time=   2.0s\n",
      "[CV 1/5] END max_depth=25, max_leaf_nodes=100, min_samples_leaf=50, min_samples_split=70, n_estimators=10;, score=-5506108.028 total time=   3.3s\n",
      "[CV 2/5] END max_depth=25, max_leaf_nodes=100, min_samples_leaf=50, min_samples_split=70, n_estimators=10;, score=-5679505.029 total time=   4.0s\n",
      "[CV 3/5] END max_depth=25, max_leaf_nodes=100, min_samples_leaf=50, min_samples_split=70, n_estimators=10;, score=-5595918.999 total time=   3.9s\n",
      "[CV 4/5] END max_depth=25, max_leaf_nodes=100, min_samples_leaf=50, min_samples_split=70, n_estimators=10;, score=-5450201.533 total time=   5.0s\n",
      "[CV 5/5] END max_depth=25, max_leaf_nodes=100, min_samples_leaf=50, min_samples_split=70, n_estimators=10;, score=-5704010.866 total time=   4.7s\n",
      "[CV 1/5] END max_depth=25, max_leaf_nodes=100, min_samples_leaf=50, min_samples_split=70, n_estimators=15;, score=-5452707.481 total time=  12.7s\n",
      "[CV 2/5] END max_depth=25, max_leaf_nodes=100, min_samples_leaf=50, min_samples_split=70, n_estimators=15;, score=-5597195.626 total time=   7.0s\n",
      "[CV 3/5] END max_depth=25, max_leaf_nodes=100, min_samples_leaf=50, min_samples_split=70, n_estimators=15;, score=-5587463.110 total time=  10.0s\n",
      "[CV 4/5] END max_depth=25, max_leaf_nodes=100, min_samples_leaf=50, min_samples_split=70, n_estimators=15;, score=-5468321.155 total time=  11.5s\n",
      "[CV 5/5] END max_depth=25, max_leaf_nodes=100, min_samples_leaf=50, min_samples_split=70, n_estimators=15;, score=-5576635.998 total time=  19.2s\n",
      "[CV 1/5] END max_depth=25, max_leaf_nodes=100, min_samples_leaf=50, min_samples_split=770, n_estimators=5;, score=-5739442.659 total time=   4.2s\n",
      "[CV 2/5] END max_depth=25, max_leaf_nodes=100, min_samples_leaf=50, min_samples_split=770, n_estimators=5;, score=-5906083.818 total time=   3.6s\n",
      "[CV 3/5] END max_depth=25, max_leaf_nodes=100, min_samples_leaf=50, min_samples_split=770, n_estimators=5;, score=-5733077.988 total time=   3.9s\n",
      "[CV 4/5] END max_depth=25, max_leaf_nodes=100, min_samples_leaf=50, min_samples_split=770, n_estimators=5;, score=-5483518.342 total time=  20.4s\n",
      "[CV 5/5] END max_depth=25, max_leaf_nodes=100, min_samples_leaf=50, min_samples_split=770, n_estimators=5;, score=-5752551.765 total time=  21.2s\n",
      "[CV 1/5] END max_depth=25, max_leaf_nodes=100, min_samples_leaf=50, min_samples_split=770, n_estimators=10;, score=-5422556.180 total time=  17.3s\n",
      "[CV 2/5] END max_depth=25, max_leaf_nodes=100, min_samples_leaf=50, min_samples_split=770, n_estimators=10;, score=-5791284.582 total time=   6.4s\n",
      "[CV 3/5] END max_depth=25, max_leaf_nodes=100, min_samples_leaf=50, min_samples_split=770, n_estimators=10;, score=-5629989.949 total time=   5.5s\n"
     ]
    }
   ],
   "source": [
    "# Calibrando hiperparâmetros\n",
    "parameters = {\n",
    "    \"n_estimators\": range(5, 16, 5),\n",
    "    \"max_depth\": range(25, 126, 100),\n",
    "    \"min_samples_split\": range(70, 771, 700),\n",
    "    \"min_samples_leaf\": range(50, 551, 500),\n",
    "    \"max_leaf_nodes\": range(100, 1001, 900),\n",
    "}\n",
    "\n",
    "clf = GridSearchCV(RFmodel_1, parameters, verbose=3, scoring=\"neg_mean_squared_error\")\n",
    "clf.fit(train_features_encoded, train_target)"
   ]
  },
  {
   "cell_type": "code",
   "execution_count": 25,
   "metadata": {},
   "outputs": [
    {
     "data": {
      "text/plain": [
       "RandomForestRegressor(max_depth=25, max_features='sqrt', max_leaf_nodes=1000,\n",
       "                      min_samples_leaf=50, min_samples_split=70,\n",
       "                      n_estimators=15, random_state=12345, warm_start=True)"
      ]
     },
     "execution_count": 25,
     "metadata": {},
     "output_type": "execute_result"
    }
   ],
   "source": [
    "clf.best_estimator_"
   ]
  },
  {
   "cell_type": "code",
   "execution_count": 42,
   "metadata": {},
   "outputs": [
    {
     "name": "stdout",
     "output_type": "stream",
     "text": [
      "CPU times: user 2 µs, sys: 0 ns, total: 2 µs\n",
      "Wall time: 4.53 µs\n"
     ]
    },
    {
     "data": {
      "text/plain": [
       "RandomForestRegressor(max_depth=25, max_features='sqrt', max_leaf_nodes=1000,\n",
       "                      min_samples_leaf=50, min_samples_split=70,\n",
       "                      n_estimators=15, random_state=12345, warm_start=True)"
      ]
     },
     "execution_count": 42,
     "metadata": {},
     "output_type": "execute_result"
    }
   ],
   "source": [
    "%time\n",
    "# Treinando o modelo de Floresta de Regressão com hiperparâmetros selecionados\n",
    "RFmodel = RandomForestRegressor(\n",
    "    max_depth=25,\n",
    "    max_features='sqrt',\n",
    "    max_leaf_nodes=1000,\n",
    "    min_samples_leaf=50,\n",
    "    min_samples_split=70,\n",
    "    n_estimators=15,\n",
    "    random_state=12345,\n",
    "    warm_start=True\n",
    ")\n",
    "RFmodel.fit(train_features_encoded, train_target)"
   ]
  },
  {
   "cell_type": "markdown",
   "metadata": {},
   "source": [
    "- Tempo de treinamento para modelo de Floresta Aleatória de Regressão: **4.53 µs**."
   ]
  },
  {
   "cell_type": "markdown",
   "metadata": {},
   "source": [
    "\n",
    "<div class=\"alert alert-block alert-danger\">\n",
    "<b> Comentário do revisor: </b> <a class=\"tocSkip\"></a>\n",
    "\n",
    "Precisa calibrar hiperparâmetro\n",
    "</div>\n"
   ]
  },
  {
   "cell_type": "markdown",
   "metadata": {},
   "source": [
    "### Árvore de Regressão"
   ]
  },
  {
   "cell_type": "code",
   "execution_count": 27,
   "metadata": {},
   "outputs": [],
   "source": [
    "# Treinando o modelo de Árvore de Regressão\n",
    "DTmodel_1 = DecisionTreeRegressor(random_state=12345)"
   ]
  },
  {
   "cell_type": "code",
   "execution_count": 28,
   "metadata": {
    "scrolled": true
   },
   "outputs": [
    {
     "name": "stdout",
     "output_type": "stream",
     "text": [
      "Fitting 5 folds for each of 24 candidates, totalling 120 fits\n",
      "[CV 1/5] END max_depth=25, max_leaf_nodes=1000, min_samples_leaf=50, min_samples_split=70; total time=   1.1s\n",
      "[CV 2/5] END max_depth=25, max_leaf_nodes=1000, min_samples_leaf=50, min_samples_split=70; total time=   1.0s\n",
      "[CV 3/5] END max_depth=25, max_leaf_nodes=1000, min_samples_leaf=50, min_samples_split=70; total time=   1.0s\n",
      "[CV 4/5] END max_depth=25, max_leaf_nodes=1000, min_samples_leaf=50, min_samples_split=70; total time=   1.0s\n",
      "[CV 5/5] END max_depth=25, max_leaf_nodes=1000, min_samples_leaf=50, min_samples_split=70; total time=   1.1s\n",
      "[CV 1/5] END max_depth=25, max_leaf_nodes=1000, min_samples_leaf=50, min_samples_split=770; total time=   1.1s\n",
      "[CV 2/5] END max_depth=25, max_leaf_nodes=1000, min_samples_leaf=50, min_samples_split=770; total time=   1.0s\n",
      "[CV 3/5] END max_depth=25, max_leaf_nodes=1000, min_samples_leaf=50, min_samples_split=770; total time=   1.0s\n",
      "[CV 4/5] END max_depth=25, max_leaf_nodes=1000, min_samples_leaf=50, min_samples_split=770; total time=   1.0s\n",
      "[CV 5/5] END max_depth=25, max_leaf_nodes=1000, min_samples_leaf=50, min_samples_split=770; total time=   1.0s\n",
      "[CV 1/5] END max_depth=25, max_leaf_nodes=1000, min_samples_leaf=550, min_samples_split=70; total time=   0.9s\n",
      "[CV 2/5] END max_depth=25, max_leaf_nodes=1000, min_samples_leaf=550, min_samples_split=70; total time=   0.9s\n",
      "[CV 3/5] END max_depth=25, max_leaf_nodes=1000, min_samples_leaf=550, min_samples_split=70; total time=   0.9s\n",
      "[CV 4/5] END max_depth=25, max_leaf_nodes=1000, min_samples_leaf=550, min_samples_split=70; total time=   0.9s\n",
      "[CV 5/5] END max_depth=25, max_leaf_nodes=1000, min_samples_leaf=550, min_samples_split=70; total time=   0.9s\n",
      "[CV 1/5] END max_depth=25, max_leaf_nodes=1000, min_samples_leaf=550, min_samples_split=770; total time=   0.9s\n",
      "[CV 2/5] END max_depth=25, max_leaf_nodes=1000, min_samples_leaf=550, min_samples_split=770; total time=   0.9s\n",
      "[CV 3/5] END max_depth=25, max_leaf_nodes=1000, min_samples_leaf=550, min_samples_split=770; total time=   0.9s\n",
      "[CV 4/5] END max_depth=25, max_leaf_nodes=1000, min_samples_leaf=550, min_samples_split=770; total time=   0.9s\n",
      "[CV 5/5] END max_depth=25, max_leaf_nodes=1000, min_samples_leaf=550, min_samples_split=770; total time=   0.9s\n",
      "[CV 1/5] END max_depth=25, max_leaf_nodes=2000, min_samples_leaf=50, min_samples_split=70; total time=   1.2s\n",
      "[CV 2/5] END max_depth=25, max_leaf_nodes=2000, min_samples_leaf=50, min_samples_split=70; total time=   1.2s\n",
      "[CV 3/5] END max_depth=25, max_leaf_nodes=2000, min_samples_leaf=50, min_samples_split=70; total time=   1.2s\n",
      "[CV 4/5] END max_depth=25, max_leaf_nodes=2000, min_samples_leaf=50, min_samples_split=70; total time=   1.2s\n",
      "[CV 5/5] END max_depth=25, max_leaf_nodes=2000, min_samples_leaf=50, min_samples_split=70; total time=   1.1s\n",
      "[CV 1/5] END max_depth=25, max_leaf_nodes=2000, min_samples_leaf=50, min_samples_split=770; total time=   1.0s\n",
      "[CV 2/5] END max_depth=25, max_leaf_nodes=2000, min_samples_leaf=50, min_samples_split=770; total time=   1.0s\n",
      "[CV 3/5] END max_depth=25, max_leaf_nodes=2000, min_samples_leaf=50, min_samples_split=770; total time=   1.0s\n",
      "[CV 4/5] END max_depth=25, max_leaf_nodes=2000, min_samples_leaf=50, min_samples_split=770; total time=   1.0s\n",
      "[CV 5/5] END max_depth=25, max_leaf_nodes=2000, min_samples_leaf=50, min_samples_split=770; total time=   1.0s\n",
      "[CV 1/5] END max_depth=25, max_leaf_nodes=2000, min_samples_leaf=550, min_samples_split=70; total time=   0.9s\n",
      "[CV 2/5] END max_depth=25, max_leaf_nodes=2000, min_samples_leaf=550, min_samples_split=70; total time=   0.9s\n",
      "[CV 3/5] END max_depth=25, max_leaf_nodes=2000, min_samples_leaf=550, min_samples_split=70; total time=   0.9s\n",
      "[CV 4/5] END max_depth=25, max_leaf_nodes=2000, min_samples_leaf=550, min_samples_split=70; total time=   0.9s\n",
      "[CV 5/5] END max_depth=25, max_leaf_nodes=2000, min_samples_leaf=550, min_samples_split=70; total time=   0.9s\n",
      "[CV 1/5] END max_depth=25, max_leaf_nodes=2000, min_samples_leaf=550, min_samples_split=770; total time=   0.9s\n",
      "[CV 2/5] END max_depth=25, max_leaf_nodes=2000, min_samples_leaf=550, min_samples_split=770; total time=   0.9s\n",
      "[CV 3/5] END max_depth=25, max_leaf_nodes=2000, min_samples_leaf=550, min_samples_split=770; total time=   0.9s\n",
      "[CV 4/5] END max_depth=25, max_leaf_nodes=2000, min_samples_leaf=550, min_samples_split=770; total time=   0.9s\n",
      "[CV 5/5] END max_depth=25, max_leaf_nodes=2000, min_samples_leaf=550, min_samples_split=770; total time=   0.9s\n",
      "[CV 1/5] END max_depth=25, max_leaf_nodes=3000, min_samples_leaf=50, min_samples_split=70; total time=   1.2s\n",
      "[CV 2/5] END max_depth=25, max_leaf_nodes=3000, min_samples_leaf=50, min_samples_split=70; total time=   1.2s\n",
      "[CV 3/5] END max_depth=25, max_leaf_nodes=3000, min_samples_leaf=50, min_samples_split=70; total time=   1.2s\n",
      "[CV 4/5] END max_depth=25, max_leaf_nodes=3000, min_samples_leaf=50, min_samples_split=70; total time=   1.2s\n",
      "[CV 5/5] END max_depth=25, max_leaf_nodes=3000, min_samples_leaf=50, min_samples_split=70; total time=   1.2s\n",
      "[CV 1/5] END max_depth=25, max_leaf_nodes=3000, min_samples_leaf=50, min_samples_split=770; total time=   1.0s\n",
      "[CV 2/5] END max_depth=25, max_leaf_nodes=3000, min_samples_leaf=50, min_samples_split=770; total time=   1.0s\n",
      "[CV 3/5] END max_depth=25, max_leaf_nodes=3000, min_samples_leaf=50, min_samples_split=770; total time=   1.0s\n",
      "[CV 4/5] END max_depth=25, max_leaf_nodes=3000, min_samples_leaf=50, min_samples_split=770; total time=   1.0s\n",
      "[CV 5/5] END max_depth=25, max_leaf_nodes=3000, min_samples_leaf=50, min_samples_split=770; total time=   1.0s\n",
      "[CV 1/5] END max_depth=25, max_leaf_nodes=3000, min_samples_leaf=550, min_samples_split=70; total time=   0.9s\n",
      "[CV 2/5] END max_depth=25, max_leaf_nodes=3000, min_samples_leaf=550, min_samples_split=70; total time=   0.9s\n",
      "[CV 3/5] END max_depth=25, max_leaf_nodes=3000, min_samples_leaf=550, min_samples_split=70; total time=   0.9s\n",
      "[CV 4/5] END max_depth=25, max_leaf_nodes=3000, min_samples_leaf=550, min_samples_split=70; total time=   0.9s\n",
      "[CV 5/5] END max_depth=25, max_leaf_nodes=3000, min_samples_leaf=550, min_samples_split=70; total time=   0.9s\n",
      "[CV 1/5] END max_depth=25, max_leaf_nodes=3000, min_samples_leaf=550, min_samples_split=770; total time=   1.0s\n",
      "[CV 2/5] END max_depth=25, max_leaf_nodes=3000, min_samples_leaf=550, min_samples_split=770; total time=   1.0s\n",
      "[CV 3/5] END max_depth=25, max_leaf_nodes=3000, min_samples_leaf=550, min_samples_split=770; total time=   0.9s\n",
      "[CV 4/5] END max_depth=25, max_leaf_nodes=3000, min_samples_leaf=550, min_samples_split=770; total time=   1.0s\n",
      "[CV 5/5] END max_depth=25, max_leaf_nodes=3000, min_samples_leaf=550, min_samples_split=770; total time=   0.9s\n",
      "[CV 1/5] END max_depth=125, max_leaf_nodes=1000, min_samples_leaf=50, min_samples_split=70; total time=   1.1s\n",
      "[CV 2/5] END max_depth=125, max_leaf_nodes=1000, min_samples_leaf=50, min_samples_split=70; total time=   1.1s\n",
      "[CV 3/5] END max_depth=125, max_leaf_nodes=1000, min_samples_leaf=50, min_samples_split=70; total time=   1.1s\n",
      "[CV 4/5] END max_depth=125, max_leaf_nodes=1000, min_samples_leaf=50, min_samples_split=70; total time=   1.1s\n",
      "[CV 5/5] END max_depth=125, max_leaf_nodes=1000, min_samples_leaf=50, min_samples_split=70; total time=   1.0s\n",
      "[CV 1/5] END max_depth=125, max_leaf_nodes=1000, min_samples_leaf=50, min_samples_split=770; total time=   1.0s\n",
      "[CV 2/5] END max_depth=125, max_leaf_nodes=1000, min_samples_leaf=50, min_samples_split=770; total time=   1.0s\n",
      "[CV 3/5] END max_depth=125, max_leaf_nodes=1000, min_samples_leaf=50, min_samples_split=770; total time=   1.0s\n",
      "[CV 4/5] END max_depth=125, max_leaf_nodes=1000, min_samples_leaf=50, min_samples_split=770; total time=   1.1s\n",
      "[CV 5/5] END max_depth=125, max_leaf_nodes=1000, min_samples_leaf=50, min_samples_split=770; total time=   1.0s\n",
      "[CV 1/5] END max_depth=125, max_leaf_nodes=1000, min_samples_leaf=550, min_samples_split=70; total time=   0.9s\n",
      "[CV 2/5] END max_depth=125, max_leaf_nodes=1000, min_samples_leaf=550, min_samples_split=70; total time=   0.9s\n",
      "[CV 3/5] END max_depth=125, max_leaf_nodes=1000, min_samples_leaf=550, min_samples_split=70; total time=   0.9s\n",
      "[CV 4/5] END max_depth=125, max_leaf_nodes=1000, min_samples_leaf=550, min_samples_split=70; total time=   0.9s\n"
     ]
    },
    {
     "name": "stdout",
     "output_type": "stream",
     "text": [
      "[CV 5/5] END max_depth=125, max_leaf_nodes=1000, min_samples_leaf=550, min_samples_split=70; total time=   0.9s\n",
      "[CV 1/5] END max_depth=125, max_leaf_nodes=1000, min_samples_leaf=550, min_samples_split=770; total time=   0.9s\n",
      "[CV 2/5] END max_depth=125, max_leaf_nodes=1000, min_samples_leaf=550, min_samples_split=770; total time=   0.9s\n",
      "[CV 3/5] END max_depth=125, max_leaf_nodes=1000, min_samples_leaf=550, min_samples_split=770; total time=   0.9s\n",
      "[CV 4/5] END max_depth=125, max_leaf_nodes=1000, min_samples_leaf=550, min_samples_split=770; total time=   0.9s\n",
      "[CV 5/5] END max_depth=125, max_leaf_nodes=1000, min_samples_leaf=550, min_samples_split=770; total time=   0.9s\n",
      "[CV 1/5] END max_depth=125, max_leaf_nodes=2000, min_samples_leaf=50, min_samples_split=70; total time=   1.2s\n",
      "[CV 2/5] END max_depth=125, max_leaf_nodes=2000, min_samples_leaf=50, min_samples_split=70; total time=   1.2s\n",
      "[CV 3/5] END max_depth=125, max_leaf_nodes=2000, min_samples_leaf=50, min_samples_split=70; total time=   1.2s\n",
      "[CV 4/5] END max_depth=125, max_leaf_nodes=2000, min_samples_leaf=50, min_samples_split=70; total time=   1.2s\n",
      "[CV 5/5] END max_depth=125, max_leaf_nodes=2000, min_samples_leaf=50, min_samples_split=70; total time=   1.2s\n",
      "[CV 1/5] END max_depth=125, max_leaf_nodes=2000, min_samples_leaf=50, min_samples_split=770; total time=   1.0s\n",
      "[CV 2/5] END max_depth=125, max_leaf_nodes=2000, min_samples_leaf=50, min_samples_split=770; total time=   1.0s\n",
      "[CV 3/5] END max_depth=125, max_leaf_nodes=2000, min_samples_leaf=50, min_samples_split=770; total time=   1.0s\n",
      "[CV 4/5] END max_depth=125, max_leaf_nodes=2000, min_samples_leaf=50, min_samples_split=770; total time=   1.0s\n",
      "[CV 5/5] END max_depth=125, max_leaf_nodes=2000, min_samples_leaf=50, min_samples_split=770; total time=   1.0s\n",
      "[CV 1/5] END max_depth=125, max_leaf_nodes=2000, min_samples_leaf=550, min_samples_split=70; total time=   0.9s\n",
      "[CV 2/5] END max_depth=125, max_leaf_nodes=2000, min_samples_leaf=550, min_samples_split=70; total time=   0.9s\n",
      "[CV 3/5] END max_depth=125, max_leaf_nodes=2000, min_samples_leaf=550, min_samples_split=70; total time=   0.9s\n",
      "[CV 4/5] END max_depth=125, max_leaf_nodes=2000, min_samples_leaf=550, min_samples_split=70; total time=   0.9s\n",
      "[CV 5/5] END max_depth=125, max_leaf_nodes=2000, min_samples_leaf=550, min_samples_split=70; total time=   0.9s\n",
      "[CV 1/5] END max_depth=125, max_leaf_nodes=2000, min_samples_leaf=550, min_samples_split=770; total time=   0.9s\n",
      "[CV 2/5] END max_depth=125, max_leaf_nodes=2000, min_samples_leaf=550, min_samples_split=770; total time=   0.9s\n",
      "[CV 3/5] END max_depth=125, max_leaf_nodes=2000, min_samples_leaf=550, min_samples_split=770; total time=   0.9s\n",
      "[CV 4/5] END max_depth=125, max_leaf_nodes=2000, min_samples_leaf=550, min_samples_split=770; total time=   0.9s\n",
      "[CV 5/5] END max_depth=125, max_leaf_nodes=2000, min_samples_leaf=550, min_samples_split=770; total time=   0.8s\n",
      "[CV 1/5] END max_depth=125, max_leaf_nodes=3000, min_samples_leaf=50, min_samples_split=70; total time=   1.2s\n",
      "[CV 2/5] END max_depth=125, max_leaf_nodes=3000, min_samples_leaf=50, min_samples_split=70; total time=   1.2s\n",
      "[CV 3/5] END max_depth=125, max_leaf_nodes=3000, min_samples_leaf=50, min_samples_split=70; total time=   1.2s\n",
      "[CV 4/5] END max_depth=125, max_leaf_nodes=3000, min_samples_leaf=50, min_samples_split=70; total time=   1.2s\n",
      "[CV 5/5] END max_depth=125, max_leaf_nodes=3000, min_samples_leaf=50, min_samples_split=70; total time=   1.2s\n",
      "[CV 1/5] END max_depth=125, max_leaf_nodes=3000, min_samples_leaf=50, min_samples_split=770; total time=   1.0s\n",
      "[CV 2/5] END max_depth=125, max_leaf_nodes=3000, min_samples_leaf=50, min_samples_split=770; total time=   1.0s\n",
      "[CV 3/5] END max_depth=125, max_leaf_nodes=3000, min_samples_leaf=50, min_samples_split=770; total time=   1.0s\n",
      "[CV 4/5] END max_depth=125, max_leaf_nodes=3000, min_samples_leaf=50, min_samples_split=770; total time=   1.0s\n",
      "[CV 5/5] END max_depth=125, max_leaf_nodes=3000, min_samples_leaf=50, min_samples_split=770; total time=   1.0s\n",
      "[CV 1/5] END max_depth=125, max_leaf_nodes=3000, min_samples_leaf=550, min_samples_split=70; total time=   0.9s\n",
      "[CV 2/5] END max_depth=125, max_leaf_nodes=3000, min_samples_leaf=550, min_samples_split=70; total time=   0.9s\n",
      "[CV 3/5] END max_depth=125, max_leaf_nodes=3000, min_samples_leaf=550, min_samples_split=70; total time=   0.9s\n",
      "[CV 4/5] END max_depth=125, max_leaf_nodes=3000, min_samples_leaf=550, min_samples_split=70; total time=   0.9s\n",
      "[CV 5/5] END max_depth=125, max_leaf_nodes=3000, min_samples_leaf=550, min_samples_split=70; total time=   0.9s\n",
      "[CV 1/5] END max_depth=125, max_leaf_nodes=3000, min_samples_leaf=550, min_samples_split=770; total time=   0.9s\n",
      "[CV 2/5] END max_depth=125, max_leaf_nodes=3000, min_samples_leaf=550, min_samples_split=770; total time=   0.9s\n",
      "[CV 3/5] END max_depth=125, max_leaf_nodes=3000, min_samples_leaf=550, min_samples_split=770; total time=   0.9s\n",
      "[CV 4/5] END max_depth=125, max_leaf_nodes=3000, min_samples_leaf=550, min_samples_split=770; total time=   0.9s\n",
      "[CV 5/5] END max_depth=125, max_leaf_nodes=3000, min_samples_leaf=550, min_samples_split=770; total time=   0.9s\n"
     ]
    },
    {
     "data": {
      "text/plain": [
       "GridSearchCV(estimator=DecisionTreeRegressor(random_state=12345),\n",
       "             param_grid={'max_depth': range(25, 126, 100),\n",
       "                         'max_leaf_nodes': range(1000, 3001, 1000),\n",
       "                         'min_samples_leaf': range(50, 551, 500),\n",
       "                         'min_samples_split': range(70, 771, 700)},\n",
       "             scoring='neg_mean_squared_error', verbose=3)"
      ]
     },
     "execution_count": 28,
     "metadata": {},
     "output_type": "execute_result"
    }
   ],
   "source": [
    "# Calibrando hiperparâmetros\n",
    "parameters = {\n",
    "    \"max_depth\": range(25, 126, 100),\n",
    "    \"min_samples_split\": range(70, 771, 700),\n",
    "    \"min_samples_leaf\": range(50, 551, 500),\n",
    "    \"max_leaf_nodes\": range(1000, 3001, 1000),\n",
    "}\n",
    "\n",
    "clf = GridSearchCV(DTmodel_1, parameters, verbose=3, scoring=\"neg_mean_squared_error\")\n",
    "clf.fit(train_features_encoded, train_target)"
   ]
  },
  {
   "cell_type": "code",
   "execution_count": 29,
   "metadata": {},
   "outputs": [
    {
     "data": {
      "text/plain": [
       "DecisionTreeRegressor(max_depth=125, max_leaf_nodes=3000, min_samples_leaf=50,\n",
       "                      min_samples_split=70, random_state=12345)"
      ]
     },
     "execution_count": 29,
     "metadata": {},
     "output_type": "execute_result"
    }
   ],
   "source": [
    "clf.best_estimator_"
   ]
  },
  {
   "cell_type": "code",
   "execution_count": 43,
   "metadata": {},
   "outputs": [
    {
     "name": "stdout",
     "output_type": "stream",
     "text": [
      "CPU times: user 3 µs, sys: 0 ns, total: 3 µs\n",
      "Wall time: 4.05 µs\n"
     ]
    },
    {
     "data": {
      "text/plain": [
       "DecisionTreeRegressor(max_depth=125, max_leaf_nodes=3000, min_samples_leaf=50,\n",
       "                      min_samples_split=70, random_state=12345)"
      ]
     },
     "execution_count": 43,
     "metadata": {},
     "output_type": "execute_result"
    }
   ],
   "source": [
    "%time\n",
    "# Treinando o modelo de Árvore de Regressão com hiperparâmetros selecionados\n",
    "DTmodel = DecisionTreeRegressor(\n",
    "    max_depth=125,\n",
    "    max_leaf_nodes=3000,\n",
    "    min_samples_leaf=50,\n",
    "    min_samples_split=70,\n",
    "    random_state=12345\n",
    ")\n",
    "DTmodel.fit(train_features_encoded, train_target)"
   ]
  },
  {
   "cell_type": "markdown",
   "metadata": {},
   "source": [
    "- Tempo de treinamento para modelo de Árvore de Regressão: **4.05 µs**.\n",
    "\n",
    "Sobre os tempos de treinamento, o modelo mais rápido é o de *Árvore de Regressão* com tempo de execução de **4.05 µs**.\n",
    "\n",
    "Ranking de tempo de treinamento dos modelos:\n",
    "- **1º - Árvore de Regressão** - 4.05 µs\n",
    "- **2º - Floresta de Regressão** - 4.53 µs\n",
    "- **3º - Regressão Linear** - 5.96 µs\n",
    "- **4º - Gradient Boosting** - 309.19 s"
   ]
  },
  {
   "cell_type": "markdown",
   "metadata": {},
   "source": [
    "\n",
    "<div class=\"alert alert-block alert-danger\">\n",
    "<b> Comentário do revisor: </b> <a class=\"tocSkip\"></a>\n",
    "\n",
    "Precisa calibrar hiperparâmetro\n",
    "</div>\n"
   ]
  },
  {
   "cell_type": "markdown",
   "metadata": {},
   "source": [
    "## Análise do modelo\n",
    "\n",
    "### Análise de Qualidade\n",
    "\n",
    "Será usada a métrica **REQM** para avaliar a qualidade dos diferentes modelos."
   ]
  },
  {
   "cell_type": "code",
   "execution_count": 38,
   "metadata": {},
   "outputs": [
    {
     "name": "stdout",
     "output_type": "stream",
     "text": [
      "REQM do modelo de Regressão Linear: 12455713.567873783\n"
     ]
    }
   ],
   "source": [
    "# Avaliando modelo de Regressão Linear\n",
    "LR_pred = LRmodel.predict(valid_features_encoded)\n",
    "LR_mse = mean_squared_error(valid_target, LR_pred)\n",
    "print(\"REQM do modelo de Regressão Linear:\", LR_mse)"
   ]
  },
  {
   "cell_type": "code",
   "execution_count": 32,
   "metadata": {},
   "outputs": [
    {
     "name": "stdout",
     "output_type": "stream",
     "text": [
      "REQM do modelo de Gradient Boosting: 2991702.960958839\n"
     ]
    }
   ],
   "source": [
    "# Avaliando modelo de Gradient Boosting\n",
    "lgb_pred = lgb_model.predict(valid_features_encoded)\n",
    "lgb_mse = mean_squared_error(valid_target, lgb_pred)\n",
    "print(\"REQM do modelo de Gradient Boosting:\", lgb_mse)"
   ]
  },
  {
   "cell_type": "code",
   "execution_count": 33,
   "metadata": {},
   "outputs": [
    {
     "name": "stdout",
     "output_type": "stream",
     "text": [
      "REQM do modelo de Floresta de Regressão: 4339839.477974582\n"
     ]
    }
   ],
   "source": [
    "# Avaliando modelo de Floresta de Regressão\n",
    "RF_pred = RFmodel.predict(valid_features_encoded)\n",
    "RF_mse = mean_squared_error(valid_target, RF_pred)\n",
    "print(\"REQM do modelo de Floresta de Regressão:\", RF_mse)"
   ]
  },
  {
   "cell_type": "code",
   "execution_count": 34,
   "metadata": {},
   "outputs": [
    {
     "name": "stdout",
     "output_type": "stream",
     "text": [
      "REQM do modelo de Árvore de Regressão: 4101568.175017456\n"
     ]
    }
   ],
   "source": [
    "# Avaliando modelo de Árvore de Regressão\n",
    "DT_pred = DTmodel.predict(valid_features_encoded)\n",
    "DT_mse = mean_squared_error(valid_target, DT_pred)\n",
    "print(\"REQM do modelo de Árvore de Regressão:\", DT_mse)"
   ]
  },
  {
   "cell_type": "markdown",
   "metadata": {},
   "source": [
    "O modelo com melhor REQM é o *Gradient Boosting*, tendo a métrica quase **30%** melhor do que os outros 2 melhores modelos!\n",
    "\n",
    "Ranking de REQM dos modelos:\n",
    "- **1º - Gradient Boosting** - 2.991.702,96\n",
    "- **2º - Árvore de Regressão** - 4.101.568,17\n",
    "- **3º - Floresta de Regressão** - 4.339.839,47\n",
    "- **4º - Regressão Linear** - 12.455.713,56"
   ]
  },
  {
   "cell_type": "markdown",
   "metadata": {},
   "source": [
    "### Análise de velocidade de execução"
   ]
  },
  {
   "cell_type": "code",
   "execution_count": 39,
   "metadata": {},
   "outputs": [
    {
     "name": "stdout",
     "output_type": "stream",
     "text": [
      "14.9 ms ± 3.88 ms per loop (mean ± std. dev. of 7 runs, 100 loops each)\n"
     ]
    }
   ],
   "source": [
    "%%timeit\n",
    "\n",
    "# Avaliando modelo de Regressão Linear\n",
    "LR_pred = LRmodel.predict(valid_features_encoded)"
   ]
  },
  {
   "cell_type": "code",
   "execution_count": 35,
   "metadata": {},
   "outputs": [
    {
     "name": "stdout",
     "output_type": "stream",
     "text": [
      "3.93 s ± 40.8 ms per loop (mean ± std. dev. of 7 runs, 1 loop each)\n"
     ]
    }
   ],
   "source": [
    "%%timeit\n",
    "\n",
    "# Avaliando modelo de Gradient Boosting\n",
    "lgb_pred = lgb_model.predict(valid_features_encoded)"
   ]
  },
  {
   "cell_type": "code",
   "execution_count": 36,
   "metadata": {},
   "outputs": [
    {
     "name": "stdout",
     "output_type": "stream",
     "text": [
      "105 ms ± 529 µs per loop (mean ± std. dev. of 7 runs, 10 loops each)\n"
     ]
    }
   ],
   "source": [
    "%%timeit\n",
    "\n",
    "# Avaliando modelo de Floresta de Regressão\n",
    "RF_pred = RFmodel.predict(valid_features_encoded)"
   ]
  },
  {
   "cell_type": "code",
   "execution_count": 37,
   "metadata": {},
   "outputs": [
    {
     "name": "stdout",
     "output_type": "stream",
     "text": [
      "11.7 ms ± 52.8 µs per loop (mean ± std. dev. of 7 runs, 100 loops each)\n"
     ]
    }
   ],
   "source": [
    "%%timeit\n",
    "\n",
    "# Avaliando modelo de Árvore de Regressão\n",
    "DT_pred = DTmodel.predict(valid_features_encoded)"
   ]
  },
  {
   "cell_type": "markdown",
   "metadata": {},
   "source": [
    "Sobre as velocidades de execução, o modelo mais rápido é o de *Árvore de Regressão* com tempo de execução de **52.8 µs**.\n",
    "\n",
    "Ranking de velocidades de execução dos modelos:\n",
    "- **1º - Árvore de Regressão** - 52.8 µs\n",
    "- **2º - Floresta de Regressão** - 529 µs\n",
    "- **3º - Regressão Linear** - 3.88 ms\n",
    "- **4º - Gradient Boosting** - 40.8 ms"
   ]
  },
  {
   "cell_type": "markdown",
   "metadata": {},
   "source": [
    "## Conclusão\n",
    "\n",
    "Este trabalho explorou a aplicação de técnicas de aprendizado de máquina para predição de valores de mercado de veículos para o serviço de venda de carros usados, \"Rusty Bargain\". O objetivo foi analisar o impacto de diferentes modelos com Árvores de Decisão contra um modelo básico de Regressão Linear nos seguintes quesitos:\n",
    "\n",
    "- Qualidade da predição;\n",
    "- Velocidade da predição;\n",
    "- Tempo necessário para o treinamento.\n",
    "\n",
    "### Sobre os Dados\n",
    "\n",
    "- Os dados foram convertidos para os tipos mais adequados, os dados ausentes foram todos preenchidos por *'unknown'* por se tratarem todos de serem categorias em colunas contendo somente *'strings'*.\n",
    "\n",
    "- Foi feita a Codificação de Rótulos e Datas conforme *ano/mês/dia* para correta identificação dos modelos.\n",
    "\n",
    "### Comparação de Modelos\n",
    "\n",
    "#### Qualidade da Predição\n",
    "\n",
    "- **Melhor Modelo:** *Gradient Boosting* apresentou o menor REQM (Erro Quadrático Médio Relativo).\n",
    "- **REQM:** 2.991.702,96\n",
    "- **Desempenho:** 30% melhor que os outros modelos.\n",
    "\n",
    "**Ranking de Qualidade:**\n",
    "- Gradient Boosting - 2.991.702,96\n",
    "- Árvore de Regressão - 4.101.568,17\n",
    "- Floresta de Regressão - 4.339.839,47\n",
    "- Regressão Linear - 12.455.713,56\n",
    "\n",
    "#### Velocidade de Predição\n",
    "- **Mais Rápido:** *Árvore de Regressão* com tempo de execução de 52.8 µs.\n",
    "\n",
    "**Ranking de Velocidade:**\n",
    "- Árvore de Regressão - 52.8 µs\n",
    "- Floresta de Regressão - 529 µs\n",
    "- Regressão Linear - 3.88 ms\n",
    "- Gradient Boosting - 40.8 ms\n",
    "\n",
    "#### Tempo de Treinamento\n",
    "- **Mais Rápido:** *Árvore de Regressão* com tempo de execução de 4.05 µs.\n",
    "\n",
    "**Ranking de Tempo de Treinamento:**\n",
    "- Árvore de Regressão - 4.05 µs\n",
    "- Floresta de Regressão - 4.53 µs\n",
    "- Regressão Linear - 5.96 µs\n",
    "- Gradient Boosting - 309.19 s\n",
    "\n",
    "### Considerações:\n",
    "\n",
    "- O estudo demonstrou que, apesar de mais lentos, os algoritmos de *Gradient Boosting* são **muito** mais eficazes que outros modelos de regressão.\n",
    "- Independente do modelo a ser utilizado o REQM ainda deixa muito a desejar...\n",
    "\n",
    "### Recomendação\n",
    "\n",
    "Considerando que, uma vez treinado, o modelo fará somente novas *predições* a cada acesso, a recomendação é utilizar o modelo de **Gradient Boosting** com os seguintes hiperparâmetros:\n",
    "\n",
    "- `n_iters = 100`\n",
    "- `learning_rate = 0.1`\n",
    "- `seed = 12345`\n",
    "- `num_leaves = 2000`\n",
    "- `min_data_in_leaf = 100`\n",
    "- `min_data_per_group = 2000`"
   ]
  },
  {
   "cell_type": "markdown",
   "metadata": {},
   "source": [
    "# Checklist"
   ]
  },
  {
   "cell_type": "markdown",
   "metadata": {},
   "source": [
    "Digite 'x' para verificar. Em seguida, pressione Shift + Enter."
   ]
  },
  {
   "cell_type": "markdown",
   "metadata": {},
   "source": [
    "- [x]  O Jupyter Notebook está aberto\n",
    "- [x]  O código está livre de erros\n",
    "- [x]  As células com o código foram organizadas em ordem de execução\n",
    "- [x]  Os dados foram baixados e preparados\n",
    "- [x]  Os modelos foram treinados\n",
    "- [x]  A análise de velocidade e qualidade dos modelos foi realizada"
   ]
  },
  {
   "cell_type": "code",
   "execution_count": null,
   "metadata": {},
   "outputs": [],
   "source": []
  }
 ],
 "metadata": {
  "ExecuteTimeLog": [
   {
    "duration": 167,
    "start_time": "2024-12-15T17:16:59.983Z"
   },
   {
    "duration": 298,
    "start_time": "2024-12-15T17:17:21.270Z"
   },
   {
    "duration": 470,
    "start_time": "2024-12-15T17:17:22.207Z"
   },
   {
    "duration": 399,
    "start_time": "2024-12-15T17:17:46.204Z"
   },
   {
    "duration": 20,
    "start_time": "2024-12-15T17:18:00.122Z"
   },
   {
    "duration": 93,
    "start_time": "2024-12-15T17:18:24.742Z"
   },
   {
    "duration": 17,
    "start_time": "2024-12-15T17:19:10.294Z"
   },
   {
    "duration": 17,
    "start_time": "2024-12-15T17:35:17.406Z"
   },
   {
    "duration": 21,
    "start_time": "2024-12-15T17:56:47.752Z"
   },
   {
    "duration": 16,
    "start_time": "2024-12-15T17:57:01.719Z"
   },
   {
    "duration": 107,
    "start_time": "2024-12-15T17:59:43.440Z"
   },
   {
    "duration": 151,
    "start_time": "2024-12-15T18:00:15.442Z"
   },
   {
    "duration": 17,
    "start_time": "2024-12-15T18:00:51.430Z"
   },
   {
    "duration": 141,
    "start_time": "2024-12-15T18:01:27.881Z"
   },
   {
    "duration": 52,
    "start_time": "2024-12-15T18:01:44.905Z"
   },
   {
    "duration": 17,
    "start_time": "2024-12-15T18:01:51.149Z"
   },
   {
    "duration": 284,
    "start_time": "2024-12-15T18:02:04.993Z"
   },
   {
    "duration": 414,
    "start_time": "2024-12-15T18:02:05.280Z"
   },
   {
    "duration": 96,
    "start_time": "2024-12-15T18:02:05.697Z"
   },
   {
    "duration": 29,
    "start_time": "2024-12-15T18:02:05.796Z"
   },
   {
    "duration": 20,
    "start_time": "2024-12-15T18:02:05.826Z"
   },
   {
    "duration": 17,
    "start_time": "2024-12-15T18:02:05.848Z"
   },
   {
    "duration": 98,
    "start_time": "2024-12-15T18:02:05.867Z"
   },
   {
    "duration": 18,
    "start_time": "2024-12-15T18:02:05.967Z"
   },
   {
    "duration": 340,
    "start_time": "2024-12-15T18:05:27.391Z"
   },
   {
    "duration": 88,
    "start_time": "2024-12-15T18:06:49.972Z"
   },
   {
    "duration": 48,
    "start_time": "2024-12-15T18:07:00.464Z"
   },
   {
    "duration": 19,
    "start_time": "2024-12-15T18:07:05.824Z"
   },
   {
    "duration": 77,
    "start_time": "2024-12-15T18:08:52.353Z"
   },
   {
    "duration": 601,
    "start_time": "2024-12-15T18:09:03.308Z"
   },
   {
    "duration": 19,
    "start_time": "2024-12-15T18:09:07.641Z"
   },
   {
    "duration": 60,
    "start_time": "2024-12-15T18:18:47.751Z"
   },
   {
    "duration": 6,
    "start_time": "2024-12-15T18:21:42.424Z"
   },
   {
    "duration": 15,
    "start_time": "2024-12-15T18:22:22.859Z"
   },
   {
    "duration": 17,
    "start_time": "2024-12-15T18:22:31.308Z"
   },
   {
    "duration": 29,
    "start_time": "2024-12-15T18:22:47.498Z"
   },
   {
    "duration": 24,
    "start_time": "2024-12-15T18:28:26.954Z"
   },
   {
    "duration": 289,
    "start_time": "2024-12-15T18:32:21.619Z"
   },
   {
    "duration": 413,
    "start_time": "2024-12-15T18:32:21.911Z"
   },
   {
    "duration": 98,
    "start_time": "2024-12-15T18:32:22.326Z"
   },
   {
    "duration": 19,
    "start_time": "2024-12-15T18:32:22.426Z"
   },
   {
    "duration": 55,
    "start_time": "2024-12-15T18:32:22.447Z"
   },
   {
    "duration": 38,
    "start_time": "2024-12-15T18:32:22.504Z"
   },
   {
    "duration": 22,
    "start_time": "2024-12-15T18:32:22.544Z"
   },
   {
    "duration": 20,
    "start_time": "2024-12-15T18:32:22.567Z"
   },
   {
    "duration": 36,
    "start_time": "2024-12-15T18:32:22.589Z"
   },
   {
    "duration": 74,
    "start_time": "2024-12-15T18:32:22.628Z"
   },
   {
    "duration": 59,
    "start_time": "2024-12-15T18:32:22.704Z"
   },
   {
    "duration": 627,
    "start_time": "2024-12-15T18:32:22.764Z"
   },
   {
    "duration": 31,
    "start_time": "2024-12-15T18:32:23.393Z"
   },
   {
    "duration": 5,
    "start_time": "2024-12-15T18:37:30.777Z"
   },
   {
    "duration": 272,
    "start_time": "2024-12-15T18:37:35.628Z"
   },
   {
    "duration": 2,
    "start_time": "2024-12-15T18:38:04.395Z"
   },
   {
    "duration": 80,
    "start_time": "2024-12-15T18:38:10.747Z"
   },
   {
    "duration": 18,
    "start_time": "2024-12-15T18:38:16.984Z"
   },
   {
    "duration": 615,
    "start_time": "2024-12-15T18:38:35.388Z"
   },
   {
    "duration": 54,
    "start_time": "2024-12-15T18:38:45.621Z"
   },
   {
    "duration": 17,
    "start_time": "2024-12-15T18:38:47.769Z"
   },
   {
    "duration": 46,
    "start_time": "2024-12-15T18:39:11.470Z"
   },
   {
    "duration": 395,
    "start_time": "2024-12-15T18:44:56.485Z"
   },
   {
    "duration": 74,
    "start_time": "2024-12-15T18:45:48.107Z"
   },
   {
    "duration": 20,
    "start_time": "2024-12-15T18:47:37.171Z"
   },
   {
    "duration": 19,
    "start_time": "2024-12-15T18:47:48.121Z"
   },
   {
    "duration": 18,
    "start_time": "2024-12-15T18:47:55.726Z"
   },
   {
    "duration": 5,
    "start_time": "2024-12-15T18:48:04.956Z"
   },
   {
    "duration": 5,
    "start_time": "2024-12-15T18:48:12.057Z"
   },
   {
    "duration": 15,
    "start_time": "2024-12-15T18:49:52.053Z"
   },
   {
    "duration": 312,
    "start_time": "2024-12-15T18:51:57.772Z"
   },
   {
    "duration": 44,
    "start_time": "2024-12-15T18:54:03.355Z"
   },
   {
    "duration": 14,
    "start_time": "2024-12-15T18:54:55.546Z"
   },
   {
    "duration": 13,
    "start_time": "2024-12-15T18:54:59.577Z"
   },
   {
    "duration": 3,
    "start_time": "2024-12-15T19:04:09.882Z"
   },
   {
    "duration": 13,
    "start_time": "2024-12-15T19:05:23.039Z"
   },
   {
    "duration": 57,
    "start_time": "2024-12-15T19:08:31.666Z"
   },
   {
    "duration": 226,
    "start_time": "2024-12-15T19:12:45.871Z"
   },
   {
    "duration": 44,
    "start_time": "2024-12-15T19:12:57.120Z"
   },
   {
    "duration": 12,
    "start_time": "2024-12-15T19:13:01.527Z"
   },
   {
    "duration": 88,
    "start_time": "2024-12-15T19:13:09.067Z"
   },
   {
    "duration": 14,
    "start_time": "2024-12-15T19:13:25.267Z"
   },
   {
    "duration": 115,
    "start_time": "2024-12-15T19:13:32.074Z"
   },
   {
    "duration": 12,
    "start_time": "2024-12-15T19:18:17.841Z"
   },
   {
    "duration": 14,
    "start_time": "2024-12-15T19:18:35.133Z"
   },
   {
    "duration": 76,
    "start_time": "2024-12-15T19:26:46.760Z"
   },
   {
    "duration": 110,
    "start_time": "2024-12-15T19:27:04.883Z"
   },
   {
    "duration": 16,
    "start_time": "2024-12-15T19:27:15.853Z"
   },
   {
    "duration": 831,
    "start_time": "2024-12-15T19:28:30.444Z"
   },
   {
    "duration": 417,
    "start_time": "2024-12-15T19:28:31.278Z"
   },
   {
    "duration": 134,
    "start_time": "2024-12-15T19:28:31.698Z"
   },
   {
    "duration": 18,
    "start_time": "2024-12-15T19:28:31.833Z"
   },
   {
    "duration": 77,
    "start_time": "2024-12-15T19:28:31.854Z"
   },
   {
    "duration": 29,
    "start_time": "2024-12-15T19:28:31.934Z"
   },
   {
    "duration": 30,
    "start_time": "2024-12-15T19:28:31.965Z"
   },
   {
    "duration": 38,
    "start_time": "2024-12-15T19:28:31.997Z"
   },
   {
    "duration": 16,
    "start_time": "2024-12-15T19:28:32.037Z"
   },
   {
    "duration": 93,
    "start_time": "2024-12-15T19:28:32.055Z"
   },
   {
    "duration": 51,
    "start_time": "2024-12-15T19:28:32.150Z"
   },
   {
    "duration": 595,
    "start_time": "2024-12-15T19:28:32.203Z"
   },
   {
    "duration": 89,
    "start_time": "2024-12-15T19:28:32.800Z"
   },
   {
    "duration": 82,
    "start_time": "2024-12-15T19:28:32.892Z"
   },
   {
    "duration": 23,
    "start_time": "2024-12-15T19:28:32.976Z"
   },
   {
    "duration": 25,
    "start_time": "2024-12-15T19:28:33.001Z"
   },
   {
    "duration": 236,
    "start_time": "2024-12-15T19:28:33.028Z"
   },
   {
    "duration": 1004,
    "start_time": "2024-12-15T19:28:33.266Z"
   },
   {
    "duration": 0,
    "start_time": "2024-12-15T19:28:34.272Z"
   },
   {
    "duration": 0,
    "start_time": "2024-12-15T19:28:34.273Z"
   },
   {
    "duration": 101,
    "start_time": "2024-12-15T19:29:31.009Z"
   },
   {
    "duration": 15,
    "start_time": "2024-12-15T19:29:39.807Z"
   },
   {
    "duration": 15,
    "start_time": "2024-12-15T19:29:47.532Z"
   },
   {
    "duration": 12,
    "start_time": "2024-12-15T19:30:13.318Z"
   },
   {
    "duration": 51,
    "start_time": "2024-12-15T19:30:59.185Z"
   },
   {
    "duration": 90,
    "start_time": "2024-12-15T19:33:20.234Z"
   },
   {
    "duration": 12,
    "start_time": "2024-12-15T19:33:24.865Z"
   },
   {
    "duration": 841,
    "start_time": "2024-12-15T19:33:37.541Z"
   },
   {
    "duration": 436,
    "start_time": "2024-12-15T19:33:38.384Z"
   },
   {
    "duration": 120,
    "start_time": "2024-12-15T19:33:38.822Z"
   },
   {
    "duration": 26,
    "start_time": "2024-12-15T19:33:38.945Z"
   },
   {
    "duration": 72,
    "start_time": "2024-12-15T19:33:38.973Z"
   },
   {
    "duration": 25,
    "start_time": "2024-12-15T19:33:39.046Z"
   },
   {
    "duration": 23,
    "start_time": "2024-12-15T19:33:39.073Z"
   },
   {
    "duration": 38,
    "start_time": "2024-12-15T19:33:39.098Z"
   },
   {
    "duration": 18,
    "start_time": "2024-12-15T19:33:39.138Z"
   },
   {
    "duration": 91,
    "start_time": "2024-12-15T19:33:39.159Z"
   },
   {
    "duration": 51,
    "start_time": "2024-12-15T19:33:39.252Z"
   },
   {
    "duration": 602,
    "start_time": "2024-12-15T19:33:39.305Z"
   },
   {
    "duration": 101,
    "start_time": "2024-12-15T19:33:39.909Z"
   },
   {
    "duration": 88,
    "start_time": "2024-12-15T19:33:40.012Z"
   },
   {
    "duration": 26,
    "start_time": "2024-12-15T19:33:40.101Z"
   },
   {
    "duration": 18,
    "start_time": "2024-12-15T19:33:40.129Z"
   },
   {
    "duration": 236,
    "start_time": "2024-12-15T19:33:40.149Z"
   },
   {
    "duration": 105,
    "start_time": "2024-12-15T19:33:40.387Z"
   },
   {
    "duration": 13,
    "start_time": "2024-12-15T19:33:40.494Z"
   },
   {
    "duration": 994,
    "start_time": "2024-12-15T19:33:40.508Z"
   },
   {
    "duration": 78,
    "start_time": "2024-12-15T19:34:02.250Z"
   },
   {
    "duration": 15,
    "start_time": "2024-12-15T19:34:05.182Z"
   },
   {
    "duration": 12,
    "start_time": "2024-12-15T19:34:12.414Z"
   },
   {
    "duration": 95,
    "start_time": "2024-12-15T19:35:10.521Z"
   },
   {
    "duration": 11,
    "start_time": "2024-12-15T19:35:12.773Z"
   },
   {
    "duration": 115,
    "start_time": "2024-12-15T19:35:24.616Z"
   },
   {
    "duration": 776,
    "start_time": "2024-12-15T19:53:51.047Z"
   },
   {
    "duration": 401,
    "start_time": "2024-12-15T19:53:52.690Z"
   },
   {
    "duration": 93,
    "start_time": "2024-12-15T19:53:53.231Z"
   },
   {
    "duration": 23,
    "start_time": "2024-12-15T19:53:54.079Z"
   },
   {
    "duration": 58,
    "start_time": "2024-12-15T19:53:56.282Z"
   },
   {
    "duration": 25,
    "start_time": "2024-12-15T19:53:57.231Z"
   },
   {
    "duration": 22,
    "start_time": "2024-12-15T19:54:03.629Z"
   },
   {
    "duration": 86,
    "start_time": "2024-12-15T19:54:41.497Z"
   },
   {
    "duration": 212,
    "start_time": "2024-12-15T19:54:46.077Z"
   },
   {
    "duration": 15,
    "start_time": "2024-12-15T19:55:02.196Z"
   },
   {
    "duration": 723,
    "start_time": "2024-12-15T19:55:39.512Z"
   },
   {
    "duration": 405,
    "start_time": "2024-12-15T19:55:40.238Z"
   },
   {
    "duration": 101,
    "start_time": "2024-12-15T19:55:40.645Z"
   },
   {
    "duration": 20,
    "start_time": "2024-12-15T19:55:40.922Z"
   },
   {
    "duration": 58,
    "start_time": "2024-12-15T19:55:45.427Z"
   },
   {
    "duration": 24,
    "start_time": "2024-12-15T19:55:48.617Z"
   },
   {
    "duration": 23,
    "start_time": "2024-12-15T19:55:48.973Z"
   },
   {
    "duration": 22,
    "start_time": "2024-12-15T19:55:52.305Z"
   },
   {
    "duration": 83,
    "start_time": "2024-12-15T19:55:53.160Z"
   },
   {
    "duration": 211,
    "start_time": "2024-12-15T19:55:54.116Z"
   },
   {
    "duration": 784,
    "start_time": "2024-12-15T19:56:49.434Z"
   },
   {
    "duration": 415,
    "start_time": "2024-12-15T19:56:50.220Z"
   },
   {
    "duration": 103,
    "start_time": "2024-12-15T19:56:50.636Z"
   },
   {
    "duration": 19,
    "start_time": "2024-12-15T19:56:50.741Z"
   },
   {
    "duration": 70,
    "start_time": "2024-12-15T19:56:50.762Z"
   },
   {
    "duration": 25,
    "start_time": "2024-12-15T19:56:55.828Z"
   },
   {
    "duration": 22,
    "start_time": "2024-12-15T19:56:56.212Z"
   },
   {
    "duration": 21,
    "start_time": "2024-12-15T19:57:01.318Z"
   },
   {
    "duration": 77,
    "start_time": "2024-12-15T19:57:05.842Z"
   },
   {
    "duration": 36,
    "start_time": "2024-12-15T19:57:06.656Z"
   },
   {
    "duration": 616,
    "start_time": "2024-12-15T19:57:07.458Z"
   },
   {
    "duration": 84,
    "start_time": "2024-12-15T19:57:08.227Z"
   },
   {
    "duration": 110,
    "start_time": "2024-12-15T19:57:43.669Z"
   },
   {
    "duration": 19,
    "start_time": "2024-12-15T19:57:44.112Z"
   },
   {
    "duration": 21,
    "start_time": "2024-12-15T19:57:47.997Z"
   },
   {
    "duration": 283,
    "start_time": "2024-12-15T19:57:48.806Z"
   },
   {
    "duration": 104,
    "start_time": "2024-12-15T19:57:51.952Z"
   },
   {
    "duration": 1126,
    "start_time": "2024-12-15T19:57:54.960Z"
   },
   {
    "duration": 774,
    "start_time": "2024-12-15T19:59:35.340Z"
   },
   {
    "duration": 399,
    "start_time": "2024-12-15T19:59:36.116Z"
   },
   {
    "duration": 92,
    "start_time": "2024-12-15T19:59:36.517Z"
   },
   {
    "duration": 19,
    "start_time": "2024-12-15T19:59:36.624Z"
   },
   {
    "duration": 59,
    "start_time": "2024-12-15T19:59:36.645Z"
   },
   {
    "duration": 36,
    "start_time": "2024-12-15T19:59:36.707Z"
   },
   {
    "duration": 25,
    "start_time": "2024-12-15T19:59:36.745Z"
   },
   {
    "duration": 22,
    "start_time": "2024-12-15T19:59:36.771Z"
   },
   {
    "duration": 95,
    "start_time": "2024-12-15T19:59:36.794Z"
   },
   {
    "duration": 43,
    "start_time": "2024-12-15T19:59:36.891Z"
   },
   {
    "duration": 640,
    "start_time": "2024-12-15T19:59:36.935Z"
   },
   {
    "duration": 91,
    "start_time": "2024-12-15T19:59:37.577Z"
   },
   {
    "duration": 116,
    "start_time": "2024-12-15T19:59:37.670Z"
   },
   {
    "duration": 18,
    "start_time": "2024-12-15T19:59:37.788Z"
   },
   {
    "duration": 31,
    "start_time": "2024-12-15T19:59:37.808Z"
   },
   {
    "duration": 829,
    "start_time": "2024-12-15T19:59:37.840Z"
   },
   {
    "duration": 0,
    "start_time": "2024-12-15T19:59:38.671Z"
   },
   {
    "duration": 0,
    "start_time": "2024-12-15T19:59:38.672Z"
   },
   {
    "duration": 15,
    "start_time": "2024-12-15T20:00:28.666Z"
   },
   {
    "duration": 95,
    "start_time": "2024-12-15T20:00:44.751Z"
   },
   {
    "duration": 95,
    "start_time": "2024-12-15T20:00:53.418Z"
   },
   {
    "duration": 179,
    "start_time": "2024-12-15T20:00:55.826Z"
   },
   {
    "duration": 12,
    "start_time": "2024-12-15T20:01:31.758Z"
   },
   {
    "duration": 716,
    "start_time": "2024-12-15T20:02:35.708Z"
   },
   {
    "duration": 403,
    "start_time": "2024-12-15T20:02:36.426Z"
   },
   {
    "duration": 101,
    "start_time": "2024-12-15T20:02:36.831Z"
   },
   {
    "duration": 20,
    "start_time": "2024-12-15T20:02:36.934Z"
   },
   {
    "duration": 76,
    "start_time": "2024-12-15T20:02:36.957Z"
   },
   {
    "duration": 24,
    "start_time": "2024-12-15T20:02:37.035Z"
   },
   {
    "duration": 23,
    "start_time": "2024-12-15T20:02:37.060Z"
   },
   {
    "duration": 40,
    "start_time": "2024-12-15T20:02:37.085Z"
   },
   {
    "duration": 80,
    "start_time": "2024-12-15T20:02:37.126Z"
   },
   {
    "duration": 50,
    "start_time": "2024-12-15T20:02:37.207Z"
   },
   {
    "duration": 608,
    "start_time": "2024-12-15T20:02:37.259Z"
   },
   {
    "duration": 93,
    "start_time": "2024-12-15T20:02:37.869Z"
   },
   {
    "duration": 120,
    "start_time": "2024-12-15T20:02:37.964Z"
   },
   {
    "duration": 19,
    "start_time": "2024-12-15T20:02:38.086Z"
   },
   {
    "duration": 29,
    "start_time": "2024-12-15T20:02:38.106Z"
   },
   {
    "duration": 287,
    "start_time": "2024-12-15T20:02:38.137Z"
   },
   {
    "duration": 99,
    "start_time": "2024-12-15T20:02:38.425Z"
   },
   {
    "duration": 11,
    "start_time": "2024-12-15T20:02:38.526Z"
   },
   {
    "duration": 105,
    "start_time": "2024-12-15T20:02:38.539Z"
   },
   {
    "duration": 56,
    "start_time": "2024-12-15T20:04:21.747Z"
   },
   {
    "duration": 2,
    "start_time": "2024-12-15T20:12:33.094Z"
   },
   {
    "duration": 2,
    "start_time": "2024-12-15T20:45:44.202Z"
   },
   {
    "duration": 556,
    "start_time": "2024-12-15T20:47:22.624Z"
   },
   {
    "duration": 3,
    "start_time": "2024-12-15T20:48:18.872Z"
   },
   {
    "duration": 74,
    "start_time": "2024-12-15T20:48:20.688Z"
   },
   {
    "duration": 809,
    "start_time": "2024-12-15T20:49:32.557Z"
   },
   {
    "duration": 418,
    "start_time": "2024-12-15T20:49:33.368Z"
   },
   {
    "duration": 111,
    "start_time": "2024-12-15T20:49:33.787Z"
   },
   {
    "duration": 26,
    "start_time": "2024-12-15T20:49:33.900Z"
   },
   {
    "duration": 59,
    "start_time": "2024-12-15T20:49:33.927Z"
   },
   {
    "duration": 42,
    "start_time": "2024-12-15T20:49:33.988Z"
   },
   {
    "duration": 23,
    "start_time": "2024-12-15T20:49:34.033Z"
   },
   {
    "duration": 21,
    "start_time": "2024-12-15T20:49:34.058Z"
   },
   {
    "duration": 92,
    "start_time": "2024-12-15T20:49:34.080Z"
   },
   {
    "duration": 50,
    "start_time": "2024-12-15T20:49:34.176Z"
   },
   {
    "duration": 579,
    "start_time": "2024-12-15T20:49:34.228Z"
   },
   {
    "duration": 82,
    "start_time": "2024-12-15T20:49:34.809Z"
   },
   {
    "duration": 112,
    "start_time": "2024-12-15T20:49:34.893Z"
   },
   {
    "duration": 24,
    "start_time": "2024-12-15T20:49:35.007Z"
   },
   {
    "duration": 22,
    "start_time": "2024-12-15T20:49:35.033Z"
   },
   {
    "duration": 273,
    "start_time": "2024-12-15T20:49:35.059Z"
   },
   {
    "duration": 103,
    "start_time": "2024-12-15T20:49:35.333Z"
   },
   {
    "duration": 11,
    "start_time": "2024-12-15T20:49:35.438Z"
   },
   {
    "duration": 93,
    "start_time": "2024-12-15T20:49:35.451Z"
   },
   {
    "duration": 79,
    "start_time": "2024-12-15T20:49:35.546Z"
   },
   {
    "duration": 2,
    "start_time": "2024-12-15T20:49:35.627Z"
   },
   {
    "duration": 4893,
    "start_time": "2024-12-15T20:49:35.631Z"
   },
   {
    "duration": 2,
    "start_time": "2024-12-15T20:50:58.760Z"
   },
   {
    "duration": 4814,
    "start_time": "2024-12-15T20:50:59.524Z"
   },
   {
    "duration": 4609,
    "start_time": "2024-12-15T20:52:17.224Z"
   },
   {
    "duration": 832,
    "start_time": "2024-12-15T20:52:30.036Z"
   },
   {
    "duration": 414,
    "start_time": "2024-12-15T20:52:30.870Z"
   },
   {
    "duration": 97,
    "start_time": "2024-12-15T20:52:31.286Z"
   },
   {
    "duration": 18,
    "start_time": "2024-12-15T20:52:31.386Z"
   },
   {
    "duration": 67,
    "start_time": "2024-12-15T20:52:31.406Z"
   },
   {
    "duration": 22,
    "start_time": "2024-12-15T20:52:31.475Z"
   },
   {
    "duration": 39,
    "start_time": "2024-12-15T20:52:31.499Z"
   },
   {
    "duration": 20,
    "start_time": "2024-12-15T20:52:31.540Z"
   },
   {
    "duration": 90,
    "start_time": "2024-12-15T20:52:31.562Z"
   },
   {
    "duration": 34,
    "start_time": "2024-12-15T20:52:31.655Z"
   },
   {
    "duration": 606,
    "start_time": "2024-12-15T20:52:31.690Z"
   },
   {
    "duration": 96,
    "start_time": "2024-12-15T20:52:32.298Z"
   },
   {
    "duration": 116,
    "start_time": "2024-12-15T20:52:32.395Z"
   },
   {
    "duration": 23,
    "start_time": "2024-12-15T20:52:32.512Z"
   },
   {
    "duration": 18,
    "start_time": "2024-12-15T20:52:32.536Z"
   },
   {
    "duration": 275,
    "start_time": "2024-12-15T20:52:32.556Z"
   },
   {
    "duration": 105,
    "start_time": "2024-12-15T20:52:32.833Z"
   },
   {
    "duration": 11,
    "start_time": "2024-12-15T20:52:32.939Z"
   },
   {
    "duration": 93,
    "start_time": "2024-12-15T20:52:32.952Z"
   },
   {
    "duration": 78,
    "start_time": "2024-12-15T20:52:33.046Z"
   },
   {
    "duration": 2,
    "start_time": "2024-12-15T20:52:33.126Z"
   },
   {
    "duration": 4818,
    "start_time": "2024-12-15T20:52:33.130Z"
   },
   {
    "duration": 2,
    "start_time": "2024-12-15T20:53:49.868Z"
   },
   {
    "duration": 5120,
    "start_time": "2024-12-15T20:53:51.821Z"
   },
   {
    "duration": 830,
    "start_time": "2024-12-15T20:54:12.665Z"
   },
   {
    "duration": 446,
    "start_time": "2024-12-15T20:54:13.497Z"
   },
   {
    "duration": 97,
    "start_time": "2024-12-15T20:54:13.944Z"
   },
   {
    "duration": 19,
    "start_time": "2024-12-15T20:54:14.044Z"
   },
   {
    "duration": 76,
    "start_time": "2024-12-15T20:54:14.066Z"
   },
   {
    "duration": 25,
    "start_time": "2024-12-15T20:54:14.144Z"
   },
   {
    "duration": 24,
    "start_time": "2024-12-15T20:54:14.171Z"
   },
   {
    "duration": 40,
    "start_time": "2024-12-15T20:54:14.196Z"
   },
   {
    "duration": 95,
    "start_time": "2024-12-15T20:54:14.237Z"
   },
   {
    "duration": 36,
    "start_time": "2024-12-15T20:54:14.335Z"
   },
   {
    "duration": 610,
    "start_time": "2024-12-15T20:54:14.373Z"
   },
   {
    "duration": 90,
    "start_time": "2024-12-15T20:54:14.985Z"
   },
   {
    "duration": 127,
    "start_time": "2024-12-15T20:54:15.077Z"
   },
   {
    "duration": 23,
    "start_time": "2024-12-15T20:54:15.206Z"
   },
   {
    "duration": 20,
    "start_time": "2024-12-15T20:54:15.231Z"
   },
   {
    "duration": 280,
    "start_time": "2024-12-15T20:54:15.253Z"
   },
   {
    "duration": 108,
    "start_time": "2024-12-15T20:54:15.534Z"
   },
   {
    "duration": 12,
    "start_time": "2024-12-15T20:54:15.643Z"
   },
   {
    "duration": 94,
    "start_time": "2024-12-15T20:54:15.656Z"
   },
   {
    "duration": 3,
    "start_time": "2024-12-15T20:54:15.752Z"
   },
   {
    "duration": 3,
    "start_time": "2024-12-15T20:54:15.824Z"
   },
   {
    "duration": 6198,
    "start_time": "2024-12-15T20:54:15.829Z"
   },
   {
    "duration": 2,
    "start_time": "2024-12-15T20:54:45.489Z"
   },
   {
    "duration": 4113,
    "start_time": "2024-12-15T20:54:47.222Z"
   },
   {
    "duration": 770,
    "start_time": "2024-12-15T20:54:59.002Z"
   },
   {
    "duration": 402,
    "start_time": "2024-12-15T20:54:59.774Z"
   },
   {
    "duration": 101,
    "start_time": "2024-12-15T20:55:00.178Z"
   },
   {
    "duration": 19,
    "start_time": "2024-12-15T20:55:00.282Z"
   },
   {
    "duration": 69,
    "start_time": "2024-12-15T20:55:00.304Z"
   },
   {
    "duration": 23,
    "start_time": "2024-12-15T20:55:00.375Z"
   },
   {
    "duration": 35,
    "start_time": "2024-12-15T20:55:00.399Z"
   },
   {
    "duration": 22,
    "start_time": "2024-12-15T20:55:00.436Z"
   },
   {
    "duration": 89,
    "start_time": "2024-12-15T20:55:00.459Z"
   },
   {
    "duration": 37,
    "start_time": "2024-12-15T20:55:00.551Z"
   },
   {
    "duration": 587,
    "start_time": "2024-12-15T20:55:00.590Z"
   },
   {
    "duration": 91,
    "start_time": "2024-12-15T20:55:01.179Z"
   },
   {
    "duration": 107,
    "start_time": "2024-12-15T20:55:01.272Z"
   },
   {
    "duration": 20,
    "start_time": "2024-12-15T20:55:01.381Z"
   },
   {
    "duration": 29,
    "start_time": "2024-12-15T20:55:01.403Z"
   },
   {
    "duration": 265,
    "start_time": "2024-12-15T20:55:01.433Z"
   },
   {
    "duration": 103,
    "start_time": "2024-12-15T20:55:01.699Z"
   },
   {
    "duration": 20,
    "start_time": "2024-12-15T20:55:01.804Z"
   },
   {
    "duration": 110,
    "start_time": "2024-12-15T20:55:01.826Z"
   },
   {
    "duration": 3,
    "start_time": "2024-12-15T20:55:01.938Z"
   },
   {
    "duration": 3,
    "start_time": "2024-12-15T20:55:01.943Z"
   },
   {
    "duration": 4982,
    "start_time": "2024-12-15T20:55:01.948Z"
   },
   {
    "duration": 2,
    "start_time": "2024-12-15T20:55:26.694Z"
   },
   {
    "duration": 4177,
    "start_time": "2024-12-15T20:55:29.251Z"
   },
   {
    "duration": 3,
    "start_time": "2024-12-15T20:55:48.903Z"
   },
   {
    "duration": 4153,
    "start_time": "2024-12-15T20:55:50.280Z"
   },
   {
    "duration": 3,
    "start_time": "2024-12-15T20:56:03.501Z"
   },
   {
    "duration": 4095,
    "start_time": "2024-12-15T20:56:04.941Z"
   },
   {
    "duration": 3,
    "start_time": "2024-12-15T20:56:15.684Z"
   },
   {
    "duration": 5162,
    "start_time": "2024-12-15T20:56:17.578Z"
   },
   {
    "duration": 2,
    "start_time": "2024-12-15T20:56:51.386Z"
   },
   {
    "duration": 4021,
    "start_time": "2024-12-15T20:56:52.806Z"
   },
   {
    "duration": 23,
    "start_time": "2024-12-15T21:00:41.624Z"
   },
   {
    "duration": 267,
    "start_time": "2024-12-15T21:11:17.150Z"
   },
   {
    "duration": 18,
    "start_time": "2024-12-15T21:12:04.111Z"
   },
   {
    "duration": 823,
    "start_time": "2024-12-15T21:15:55.196Z"
   },
   {
    "duration": 439,
    "start_time": "2024-12-15T21:15:56.021Z"
   },
   {
    "duration": 100,
    "start_time": "2024-12-15T21:15:56.462Z"
   },
   {
    "duration": 21,
    "start_time": "2024-12-15T21:15:56.563Z"
   },
   {
    "duration": 75,
    "start_time": "2024-12-15T21:15:56.587Z"
   },
   {
    "duration": 25,
    "start_time": "2024-12-15T21:15:56.664Z"
   },
   {
    "duration": 43,
    "start_time": "2024-12-15T21:15:56.692Z"
   },
   {
    "duration": 23,
    "start_time": "2024-12-15T21:15:56.736Z"
   },
   {
    "duration": 113,
    "start_time": "2024-12-15T21:15:56.762Z"
   },
   {
    "duration": 35,
    "start_time": "2024-12-15T21:15:56.877Z"
   },
   {
    "duration": 627,
    "start_time": "2024-12-15T21:15:56.914Z"
   },
   {
    "duration": 89,
    "start_time": "2024-12-15T21:15:57.545Z"
   },
   {
    "duration": 114,
    "start_time": "2024-12-15T21:15:57.636Z"
   },
   {
    "duration": 20,
    "start_time": "2024-12-15T21:15:57.753Z"
   },
   {
    "duration": 23,
    "start_time": "2024-12-15T21:15:57.775Z"
   },
   {
    "duration": 338,
    "start_time": "2024-12-15T21:15:57.800Z"
   },
   {
    "duration": 114,
    "start_time": "2024-12-15T21:15:58.140Z"
   },
   {
    "duration": 14,
    "start_time": "2024-12-15T21:15:58.256Z"
   },
   {
    "duration": 84,
    "start_time": "2024-12-15T21:15:58.272Z"
   },
   {
    "duration": 66,
    "start_time": "2024-12-15T21:15:58.358Z"
   },
   {
    "duration": 10,
    "start_time": "2024-12-15T21:15:58.426Z"
   },
   {
    "duration": 834,
    "start_time": "2024-12-15T21:24:07.959Z"
   },
   {
    "duration": 411,
    "start_time": "2024-12-15T21:24:08.795Z"
   },
   {
    "duration": 101,
    "start_time": "2024-12-15T21:24:09.208Z"
   },
   {
    "duration": 26,
    "start_time": "2024-12-15T21:24:09.311Z"
   },
   {
    "duration": 72,
    "start_time": "2024-12-15T21:24:09.340Z"
   },
   {
    "duration": 31,
    "start_time": "2024-12-15T21:24:09.423Z"
   },
   {
    "duration": 24,
    "start_time": "2024-12-15T21:24:09.455Z"
   },
   {
    "duration": 22,
    "start_time": "2024-12-15T21:24:09.481Z"
   },
   {
    "duration": 105,
    "start_time": "2024-12-15T21:24:09.524Z"
   },
   {
    "duration": 37,
    "start_time": "2024-12-15T21:24:09.633Z"
   },
   {
    "duration": 607,
    "start_time": "2024-12-15T21:24:09.672Z"
   },
   {
    "duration": 87,
    "start_time": "2024-12-15T21:24:10.281Z"
   },
   {
    "duration": 112,
    "start_time": "2024-12-15T21:24:10.370Z"
   },
   {
    "duration": 21,
    "start_time": "2024-12-15T21:24:10.484Z"
   },
   {
    "duration": 30,
    "start_time": "2024-12-15T21:24:10.507Z"
   },
   {
    "duration": 275,
    "start_time": "2024-12-15T21:24:10.539Z"
   },
   {
    "duration": 97,
    "start_time": "2024-12-15T21:24:10.816Z"
   },
   {
    "duration": 20,
    "start_time": "2024-12-15T21:24:10.914Z"
   },
   {
    "duration": 106,
    "start_time": "2024-12-15T21:24:10.935Z"
   },
   {
    "duration": 3,
    "start_time": "2024-12-15T21:24:11.043Z"
   },
   {
    "duration": 3,
    "start_time": "2024-12-15T21:24:11.048Z"
   },
   {
    "duration": 299900,
    "start_time": "2024-12-15T21:24:11.052Z"
   },
   {
    "duration": 595761,
    "start_time": "2024-12-15T21:29:10.954Z"
   },
   {
    "duration": 54174,
    "start_time": "2024-12-15T21:42:32.103Z"
   },
   {
    "duration": 848,
    "start_time": "2024-12-15T21:55:07.248Z"
   },
   {
    "duration": 421,
    "start_time": "2024-12-15T21:55:08.099Z"
   },
   {
    "duration": 101,
    "start_time": "2024-12-15T21:55:08.523Z"
   },
   {
    "duration": 19,
    "start_time": "2024-12-15T21:55:08.628Z"
   },
   {
    "duration": 59,
    "start_time": "2024-12-15T21:55:08.648Z"
   },
   {
    "duration": 21,
    "start_time": "2024-12-15T21:55:08.724Z"
   },
   {
    "duration": 23,
    "start_time": "2024-12-15T21:55:08.747Z"
   },
   {
    "duration": 22,
    "start_time": "2024-12-15T21:55:08.771Z"
   },
   {
    "duration": 97,
    "start_time": "2024-12-15T21:55:08.795Z"
   },
   {
    "duration": 43,
    "start_time": "2024-12-15T21:55:08.895Z"
   },
   {
    "duration": 597,
    "start_time": "2024-12-15T21:55:08.940Z"
   },
   {
    "duration": 101,
    "start_time": "2024-12-15T21:55:09.539Z"
   },
   {
    "duration": 112,
    "start_time": "2024-12-15T21:55:09.642Z"
   },
   {
    "duration": 22,
    "start_time": "2024-12-15T21:55:09.755Z"
   },
   {
    "duration": 18,
    "start_time": "2024-12-15T21:55:09.779Z"
   },
   {
    "duration": 272,
    "start_time": "2024-12-15T21:55:09.798Z"
   },
   {
    "duration": 103,
    "start_time": "2024-12-15T21:55:10.071Z"
   },
   {
    "duration": 12,
    "start_time": "2024-12-15T21:55:10.175Z"
   },
   {
    "duration": 136,
    "start_time": "2024-12-15T21:55:10.189Z"
   },
   {
    "duration": 3,
    "start_time": "2024-12-15T21:55:10.327Z"
   },
   {
    "duration": 3,
    "start_time": "2024-12-15T21:55:10.335Z"
   },
   {
    "duration": 4883,
    "start_time": "2024-12-15T21:55:10.341Z"
   },
   {
    "duration": 5583,
    "start_time": "2024-12-15T21:55:15.226Z"
   },
   {
    "duration": 3,
    "start_time": "2024-12-15T21:55:20.811Z"
   },
   {
    "duration": 3,
    "start_time": "2024-12-15T21:57:19.817Z"
   },
   {
    "duration": 224,
    "start_time": "2024-12-15T22:03:35.124Z"
   },
   {
    "duration": 3,
    "start_time": "2024-12-15T22:03:48.966Z"
   },
   {
    "duration": 1052,
    "start_time": "2024-12-15T22:03:53.179Z"
   },
   {
    "duration": 231,
    "start_time": "2024-12-15T22:09:50.916Z"
   },
   {
    "duration": 444,
    "start_time": "2024-12-15T22:10:54.488Z"
   },
   {
    "duration": 438,
    "start_time": "2024-12-15T22:11:03.086Z"
   },
   {
    "duration": 456,
    "start_time": "2024-12-15T22:11:27.969Z"
   },
   {
    "duration": 497,
    "start_time": "2024-12-15T22:13:31.533Z"
   },
   {
    "duration": 53,
    "start_time": "2024-12-15T22:15:15.353Z"
   },
   {
    "duration": 51,
    "start_time": "2024-12-15T22:15:21.647Z"
   },
   {
    "duration": 12,
    "start_time": "2024-12-15T22:16:02.198Z"
   },
   {
    "duration": 3,
    "start_time": "2024-12-15T22:17:18.089Z"
   },
   {
    "duration": 4309,
    "start_time": "2024-12-15T22:17:19.515Z"
   },
   {
    "duration": 54,
    "start_time": "2024-12-15T22:18:06.324Z"
   },
   {
    "duration": 5494,
    "start_time": "2024-12-15T22:18:09.889Z"
   },
   {
    "duration": 853,
    "start_time": "2024-12-15T22:19:02.340Z"
   },
   {
    "duration": 418,
    "start_time": "2024-12-15T22:19:03.196Z"
   },
   {
    "duration": 104,
    "start_time": "2024-12-15T22:19:03.616Z"
   },
   {
    "duration": 21,
    "start_time": "2024-12-15T22:19:03.725Z"
   },
   {
    "duration": 82,
    "start_time": "2024-12-15T22:19:03.748Z"
   },
   {
    "duration": 29,
    "start_time": "2024-12-15T22:19:03.831Z"
   },
   {
    "duration": 26,
    "start_time": "2024-12-15T22:19:03.863Z"
   },
   {
    "duration": 46,
    "start_time": "2024-12-15T22:19:03.891Z"
   },
   {
    "duration": 79,
    "start_time": "2024-12-15T22:19:03.938Z"
   },
   {
    "duration": 42,
    "start_time": "2024-12-15T22:19:04.018Z"
   },
   {
    "duration": 608,
    "start_time": "2024-12-15T22:19:04.062Z"
   },
   {
    "duration": 86,
    "start_time": "2024-12-15T22:19:04.672Z"
   },
   {
    "duration": 114,
    "start_time": "2024-12-15T22:19:04.759Z"
   },
   {
    "duration": 22,
    "start_time": "2024-12-15T22:19:04.878Z"
   },
   {
    "duration": 34,
    "start_time": "2024-12-15T22:19:04.902Z"
   },
   {
    "duration": 261,
    "start_time": "2024-12-15T22:19:04.938Z"
   },
   {
    "duration": 105,
    "start_time": "2024-12-15T22:19:05.201Z"
   },
   {
    "duration": 17,
    "start_time": "2024-12-15T22:19:05.307Z"
   },
   {
    "duration": 111,
    "start_time": "2024-12-15T22:19:05.326Z"
   },
   {
    "duration": 4,
    "start_time": "2024-12-15T22:19:05.440Z"
   },
   {
    "duration": 77,
    "start_time": "2024-12-15T22:19:05.446Z"
   },
   {
    "duration": 4913,
    "start_time": "2024-12-15T22:19:05.526Z"
   },
   {
    "duration": 5643,
    "start_time": "2024-12-15T22:19:10.443Z"
   },
   {
    "duration": 1060,
    "start_time": "2024-12-15T22:19:16.087Z"
   },
   {
    "duration": 494,
    "start_time": "2024-12-15T22:19:17.148Z"
   },
   {
    "duration": 86,
    "start_time": "2024-12-15T22:19:17.645Z"
   },
   {
    "duration": 13,
    "start_time": "2024-12-15T22:19:17.733Z"
   },
   {
    "duration": 791,
    "start_time": "2024-12-15T22:19:50.887Z"
   },
   {
    "duration": 425,
    "start_time": "2024-12-15T22:19:51.680Z"
   },
   {
    "duration": 90,
    "start_time": "2024-12-15T22:19:52.107Z"
   },
   {
    "duration": 34,
    "start_time": "2024-12-15T22:19:52.199Z"
   },
   {
    "duration": 63,
    "start_time": "2024-12-15T22:19:52.237Z"
   },
   {
    "duration": 30,
    "start_time": "2024-12-15T22:19:52.302Z"
   },
   {
    "duration": 22,
    "start_time": "2024-12-15T22:19:52.334Z"
   },
   {
    "duration": 22,
    "start_time": "2024-12-15T22:19:52.357Z"
   },
   {
    "duration": 93,
    "start_time": "2024-12-15T22:19:52.381Z"
   },
   {
    "duration": 34,
    "start_time": "2024-12-15T22:19:52.476Z"
   },
   {
    "duration": 591,
    "start_time": "2024-12-15T22:19:52.512Z"
   },
   {
    "duration": 85,
    "start_time": "2024-12-15T22:19:53.105Z"
   },
   {
    "duration": 109,
    "start_time": "2024-12-15T22:19:53.192Z"
   },
   {
    "duration": 29,
    "start_time": "2024-12-15T22:19:53.304Z"
   },
   {
    "duration": 19,
    "start_time": "2024-12-15T22:19:53.335Z"
   },
   {
    "duration": 267,
    "start_time": "2024-12-15T22:19:53.356Z"
   },
   {
    "duration": 101,
    "start_time": "2024-12-15T22:19:53.625Z"
   },
   {
    "duration": 11,
    "start_time": "2024-12-15T22:19:53.728Z"
   },
   {
    "duration": 98,
    "start_time": "2024-12-15T22:19:53.742Z"
   },
   {
    "duration": 2,
    "start_time": "2024-12-15T22:19:53.842Z"
   },
   {
    "duration": 80,
    "start_time": "2024-12-15T22:19:53.846Z"
   },
   {
    "duration": 5000,
    "start_time": "2024-12-15T22:19:53.930Z"
   },
   {
    "duration": 5668,
    "start_time": "2024-12-15T22:19:58.933Z"
   },
   {
    "duration": 1062,
    "start_time": "2024-12-15T22:20:04.603Z"
   },
   {
    "duration": 467,
    "start_time": "2024-12-15T22:20:05.667Z"
   },
   {
    "duration": 96,
    "start_time": "2024-12-15T22:20:06.136Z"
   },
   {
    "duration": 12,
    "start_time": "2024-12-15T22:20:06.234Z"
   },
   {
    "duration": 3989,
    "start_time": "2024-12-15T22:22:54.039Z"
   },
   {
    "duration": 3895,
    "start_time": "2024-12-15T22:23:10.334Z"
   },
   {
    "duration": 3792,
    "start_time": "2024-12-15T22:23:35.754Z"
   },
   {
    "duration": 6505,
    "start_time": "2024-12-15T22:23:52.490Z"
   },
   {
    "duration": 3,
    "start_time": "2024-12-15T22:48:40.711Z"
   },
   {
    "duration": 41936,
    "start_time": "2024-12-15T22:48:42.488Z"
   },
   {
    "duration": 4511,
    "start_time": "2024-12-15T22:50:58.799Z"
   },
   {
    "duration": 700,
    "start_time": "2024-12-15T22:51:17.157Z"
   },
   {
    "duration": 6681,
    "start_time": "2024-12-15T22:51:21.355Z"
   },
   {
    "duration": 34,
    "start_time": "2024-12-15T22:51:28.039Z"
   },
   {
    "duration": 9,
    "start_time": "2024-12-15T22:51:28.076Z"
   },
   {
    "duration": 3,
    "start_time": "2024-12-15T22:52:10.118Z"
   },
   {
    "duration": 22458,
    "start_time": "2024-12-15T22:52:11.680Z"
   },
   {
    "duration": 3375,
    "start_time": "2024-12-15T22:52:52.449Z"
   },
   {
    "duration": 3,
    "start_time": "2024-12-15T22:53:19.707Z"
   },
   {
    "duration": 13413,
    "start_time": "2024-12-15T22:53:21.626Z"
   },
   {
    "duration": 2,
    "start_time": "2024-12-15T22:53:48.000Z"
   },
   {
    "duration": 46153,
    "start_time": "2024-12-15T22:53:50.071Z"
   },
   {
    "duration": 5301,
    "start_time": "2024-12-15T22:55:15.232Z"
   },
   {
    "duration": 833,
    "start_time": "2024-12-15T23:03:51.074Z"
   },
   {
    "duration": 433,
    "start_time": "2024-12-15T23:03:51.909Z"
   },
   {
    "duration": 105,
    "start_time": "2024-12-15T23:03:52.344Z"
   },
   {
    "duration": 20,
    "start_time": "2024-12-15T23:03:52.452Z"
   },
   {
    "duration": 81,
    "start_time": "2024-12-15T23:03:52.473Z"
   },
   {
    "duration": 26,
    "start_time": "2024-12-15T23:03:52.556Z"
   },
   {
    "duration": 42,
    "start_time": "2024-12-15T23:03:52.583Z"
   },
   {
    "duration": 22,
    "start_time": "2024-12-15T23:03:52.626Z"
   },
   {
    "duration": 98,
    "start_time": "2024-12-15T23:03:52.650Z"
   },
   {
    "duration": 36,
    "start_time": "2024-12-15T23:03:52.751Z"
   },
   {
    "duration": 586,
    "start_time": "2024-12-15T23:03:52.789Z"
   },
   {
    "duration": 87,
    "start_time": "2024-12-15T23:03:53.377Z"
   },
   {
    "duration": 116,
    "start_time": "2024-12-15T23:03:53.466Z"
   },
   {
    "duration": 25,
    "start_time": "2024-12-15T23:03:53.583Z"
   },
   {
    "duration": 20,
    "start_time": "2024-12-15T23:03:53.623Z"
   },
   {
    "duration": 291,
    "start_time": "2024-12-15T23:03:53.645Z"
   },
   {
    "duration": 105,
    "start_time": "2024-12-15T23:03:53.937Z"
   },
   {
    "duration": 11,
    "start_time": "2024-12-15T23:03:54.044Z"
   },
   {
    "duration": 91,
    "start_time": "2024-12-15T23:03:54.057Z"
   },
   {
    "duration": 71,
    "start_time": "2024-12-15T23:03:54.153Z"
   },
   {
    "duration": 3,
    "start_time": "2024-12-15T23:03:54.226Z"
   },
   {
    "duration": 814,
    "start_time": "2024-12-15T23:05:23.200Z"
   },
   {
    "duration": 408,
    "start_time": "2024-12-15T23:05:24.018Z"
   },
   {
    "duration": 120,
    "start_time": "2024-12-15T23:05:24.428Z"
   },
   {
    "duration": 20,
    "start_time": "2024-12-15T23:05:24.550Z"
   },
   {
    "duration": 78,
    "start_time": "2024-12-15T23:05:24.572Z"
   },
   {
    "duration": 23,
    "start_time": "2024-12-15T23:05:24.652Z"
   },
   {
    "duration": 23,
    "start_time": "2024-12-15T23:05:24.676Z"
   },
   {
    "duration": 39,
    "start_time": "2024-12-15T23:05:24.701Z"
   },
   {
    "duration": 86,
    "start_time": "2024-12-15T23:05:24.742Z"
   },
   {
    "duration": 36,
    "start_time": "2024-12-15T23:05:24.831Z"
   },
   {
    "duration": 640,
    "start_time": "2024-12-15T23:05:24.869Z"
   },
   {
    "duration": 138,
    "start_time": "2024-12-15T23:05:25.510Z"
   },
   {
    "duration": 132,
    "start_time": "2024-12-15T23:05:25.649Z"
   },
   {
    "duration": 23,
    "start_time": "2024-12-15T23:05:25.783Z"
   },
   {
    "duration": 28,
    "start_time": "2024-12-15T23:05:25.808Z"
   },
   {
    "duration": 416,
    "start_time": "2024-12-15T23:05:25.839Z"
   },
   {
    "duration": 109,
    "start_time": "2024-12-15T23:05:26.258Z"
   },
   {
    "duration": 13,
    "start_time": "2024-12-15T23:05:26.369Z"
   },
   {
    "duration": 147,
    "start_time": "2024-12-15T23:05:26.383Z"
   },
   {
    "duration": 2,
    "start_time": "2024-12-15T23:05:26.532Z"
   },
   {
    "duration": 3,
    "start_time": "2024-12-15T23:05:26.536Z"
   },
   {
    "duration": 309693,
    "start_time": "2024-12-15T23:05:26.541Z"
   },
   {
    "duration": 4650,
    "start_time": "2024-12-15T23:10:36.237Z"
   },
   {
    "duration": 704,
    "start_time": "2024-12-15T23:10:40.889Z"
   },
   {
    "duration": 529,
    "start_time": "2024-12-15T23:10:41.595Z"
   },
   {
    "duration": 35,
    "start_time": "2024-12-15T23:10:42.125Z"
   },
   {
    "duration": 10,
    "start_time": "2024-12-15T23:10:42.163Z"
   },
   {
    "duration": 4247,
    "start_time": "2024-12-15T23:10:42.177Z"
   },
   {
    "duration": 2518,
    "start_time": "2024-12-15T23:10:46.426Z"
   },
   {
    "duration": 4044,
    "start_time": "2024-12-15T23:10:48.946Z"
   },
   {
    "duration": 11,
    "start_time": "2024-12-15T23:54:52.097Z"
   },
   {
    "duration": 3,
    "start_time": "2024-12-16T00:04:37.870Z"
   },
   {
    "duration": 821,
    "start_time": "2024-12-16T00:06:35.971Z"
   },
   {
    "duration": 402,
    "start_time": "2024-12-16T00:06:36.796Z"
   },
   {
    "duration": 101,
    "start_time": "2024-12-16T00:06:37.200Z"
   },
   {
    "duration": 29,
    "start_time": "2024-12-16T00:06:37.303Z"
   },
   {
    "duration": 58,
    "start_time": "2024-12-16T00:06:37.334Z"
   },
   {
    "duration": 39,
    "start_time": "2024-12-16T00:06:37.394Z"
   },
   {
    "duration": 23,
    "start_time": "2024-12-16T00:06:37.435Z"
   },
   {
    "duration": 20,
    "start_time": "2024-12-16T00:06:37.460Z"
   },
   {
    "duration": 116,
    "start_time": "2024-12-16T00:06:37.482Z"
   },
   {
    "duration": 44,
    "start_time": "2024-12-16T00:06:37.600Z"
   },
   {
    "duration": 621,
    "start_time": "2024-12-16T00:06:37.646Z"
   },
   {
    "duration": 94,
    "start_time": "2024-12-16T00:06:38.269Z"
   },
   {
    "duration": 130,
    "start_time": "2024-12-16T00:06:38.365Z"
   },
   {
    "duration": 24,
    "start_time": "2024-12-16T00:06:38.500Z"
   },
   {
    "duration": 21,
    "start_time": "2024-12-16T00:06:38.526Z"
   },
   {
    "duration": 288,
    "start_time": "2024-12-16T00:06:38.549Z"
   },
   {
    "duration": 102,
    "start_time": "2024-12-16T00:06:38.838Z"
   },
   {
    "duration": 11,
    "start_time": "2024-12-16T00:06:38.941Z"
   },
   {
    "duration": 182,
    "start_time": "2024-12-16T00:06:38.954Z"
   },
   {
    "duration": 4,
    "start_time": "2024-12-16T00:06:39.138Z"
   },
   {
    "duration": 6,
    "start_time": "2024-12-16T00:06:39.143Z"
   },
   {
    "duration": 843,
    "start_time": "2024-12-16T00:14:38.136Z"
   },
   {
    "duration": 454,
    "start_time": "2024-12-16T00:14:38.981Z"
   },
   {
    "duration": 103,
    "start_time": "2024-12-16T00:14:39.437Z"
   },
   {
    "duration": 20,
    "start_time": "2024-12-16T00:14:39.543Z"
   },
   {
    "duration": 83,
    "start_time": "2024-12-16T00:14:39.566Z"
   },
   {
    "duration": 31,
    "start_time": "2024-12-16T00:14:39.650Z"
   },
   {
    "duration": 43,
    "start_time": "2024-12-16T00:14:39.682Z"
   },
   {
    "duration": 24,
    "start_time": "2024-12-16T00:14:39.727Z"
   },
   {
    "duration": 112,
    "start_time": "2024-12-16T00:14:39.753Z"
   },
   {
    "duration": 36,
    "start_time": "2024-12-16T00:14:39.867Z"
   },
   {
    "duration": 612,
    "start_time": "2024-12-16T00:14:39.904Z"
   },
   {
    "duration": 125,
    "start_time": "2024-12-16T00:14:40.518Z"
   },
   {
    "duration": 123,
    "start_time": "2024-12-16T00:14:40.646Z"
   },
   {
    "duration": 20,
    "start_time": "2024-12-16T00:14:40.774Z"
   },
   {
    "duration": 32,
    "start_time": "2024-12-16T00:14:40.797Z"
   },
   {
    "duration": 267,
    "start_time": "2024-12-16T00:14:40.831Z"
   },
   {
    "duration": 117,
    "start_time": "2024-12-16T00:14:41.100Z"
   },
   {
    "duration": 14,
    "start_time": "2024-12-16T00:14:41.219Z"
   },
   {
    "duration": 113,
    "start_time": "2024-12-16T00:14:41.234Z"
   },
   {
    "duration": 3,
    "start_time": "2024-12-16T00:14:41.349Z"
   },
   {
    "duration": 71,
    "start_time": "2024-12-16T00:14:41.353Z"
   },
   {
    "duration": 244621,
    "start_time": "2024-12-16T00:14:41.428Z"
   },
   {
    "duration": 4574,
    "start_time": "2024-12-16T00:18:46.051Z"
   },
   {
    "duration": 709,
    "start_time": "2024-12-16T00:18:50.627Z"
   },
   {
    "duration": 10,
    "start_time": "2024-12-16T00:18:51.338Z"
   },
   {
    "duration": 4081,
    "start_time": "2024-12-16T00:18:51.350Z"
   },
   {
    "duration": 34,
    "start_time": "2024-12-16T00:18:55.433Z"
   },
   {
    "duration": 9,
    "start_time": "2024-12-16T00:18:55.469Z"
   },
   {
    "duration": 31780,
    "start_time": "2024-12-16T00:18:55.479Z"
   },
   {
    "duration": 2503,
    "start_time": "2024-12-16T00:19:27.326Z"
   },
   {
    "duration": 3986,
    "start_time": "2024-12-16T00:19:29.831Z"
   },
   {
    "duration": 7,
    "start_time": "2024-12-16T01:03:27.201Z"
   },
   {
    "duration": 865,
    "start_time": "2024-12-16T18:39:42.828Z"
   },
   {
    "duration": 476,
    "start_time": "2024-12-16T18:39:43.696Z"
   },
   {
    "duration": 114,
    "start_time": "2024-12-16T18:39:44.175Z"
   },
   {
    "duration": 30,
    "start_time": "2024-12-16T18:39:44.291Z"
   },
   {
    "duration": 78,
    "start_time": "2024-12-16T18:39:44.322Z"
   },
   {
    "duration": 24,
    "start_time": "2024-12-16T18:39:44.402Z"
   },
   {
    "duration": 24,
    "start_time": "2024-12-16T18:39:44.429Z"
   },
   {
    "duration": 19,
    "start_time": "2024-12-16T18:39:44.471Z"
   },
   {
    "duration": 97,
    "start_time": "2024-12-16T18:39:44.493Z"
   },
   {
    "duration": 41,
    "start_time": "2024-12-16T18:39:44.594Z"
   },
   {
    "duration": 615,
    "start_time": "2024-12-16T18:39:44.637Z"
   },
   {
    "duration": 84,
    "start_time": "2024-12-16T18:39:45.254Z"
   },
   {
    "duration": 125,
    "start_time": "2024-12-16T18:39:45.340Z"
   },
   {
    "duration": 24,
    "start_time": "2024-12-16T18:39:45.467Z"
   },
   {
    "duration": 22,
    "start_time": "2024-12-16T18:39:45.493Z"
   },
   {
    "duration": 295,
    "start_time": "2024-12-16T18:39:45.517Z"
   },
   {
    "duration": 110,
    "start_time": "2024-12-16T18:39:45.813Z"
   },
   {
    "duration": 11,
    "start_time": "2024-12-16T18:39:45.925Z"
   },
   {
    "duration": 156,
    "start_time": "2024-12-16T18:39:45.941Z"
   },
   {
    "duration": 71,
    "start_time": "2024-12-16T18:39:46.099Z"
   },
   {
    "duration": 3,
    "start_time": "2024-12-16T18:39:46.173Z"
   },
   {
    "duration": 158121,
    "start_time": "2024-12-16T18:39:46.178Z"
   },
   {
    "duration": 4652,
    "start_time": "2024-12-16T18:42:24.301Z"
   },
   {
    "duration": 694,
    "start_time": "2024-12-16T18:42:28.955Z"
   },
   {
    "duration": 21,
    "start_time": "2024-12-16T18:42:29.650Z"
   },
   {
    "duration": 3930,
    "start_time": "2024-12-16T18:42:29.674Z"
   },
   {
    "duration": 95,
    "start_time": "2024-12-16T18:42:33.606Z"
   },
   {
    "duration": 9,
    "start_time": "2024-12-16T18:42:33.705Z"
   },
   {
    "duration": 31198,
    "start_time": "2024-12-16T18:42:33.715Z"
   },
   {
    "duration": 2516,
    "start_time": "2024-12-16T18:43:04.970Z"
   },
   {
    "duration": 4283,
    "start_time": "2024-12-16T18:43:07.487Z"
   },
   {
    "duration": 4,
    "start_time": "2024-12-16T18:43:11.772Z"
   },
   {
    "duration": 2,
    "start_time": "2024-12-16T18:53:42.953Z"
   },
   {
    "duration": 378,
    "start_time": "2024-12-16T18:53:48.823Z"
   },
   {
    "duration": 33,
    "start_time": "2024-12-16T18:54:08.022Z"
   },
   {
    "duration": 7460508,
    "start_time": "2024-12-16T18:54:23.845Z"
   },
   {
    "duration": 2,
    "start_time": "2024-12-16T20:59:38.731Z"
   },
   {
    "duration": 456,
    "start_time": "2024-12-16T20:59:38.737Z"
   },
   {
    "duration": 121,
    "start_time": "2024-12-16T20:59:39.195Z"
   },
   {
    "duration": 16,
    "start_time": "2024-12-16T20:59:39.319Z"
   },
   {
    "duration": 93,
    "start_time": "2024-12-16T20:59:39.339Z"
   },
   {
    "duration": 22,
    "start_time": "2024-12-16T20:59:39.435Z"
   },
   {
    "duration": 47,
    "start_time": "2024-12-16T20:59:39.460Z"
   },
   {
    "duration": 14,
    "start_time": "2024-12-16T20:59:39.509Z"
   },
   {
    "duration": 101,
    "start_time": "2024-12-16T20:59:39.525Z"
   },
   {
    "duration": 34,
    "start_time": "2024-12-16T20:59:39.628Z"
   },
   {
    "duration": 837,
    "start_time": "2024-12-16T20:59:39.666Z"
   },
   {
    "duration": 84,
    "start_time": "2024-12-16T20:59:40.505Z"
   },
   {
    "duration": 119,
    "start_time": "2024-12-16T20:59:40.598Z"
   },
   {
    "duration": 14,
    "start_time": "2024-12-16T20:59:40.719Z"
   },
   {
    "duration": 7,
    "start_time": "2024-12-16T20:59:40.735Z"
   },
   {
    "duration": 308,
    "start_time": "2024-12-16T20:59:40.744Z"
   },
   {
    "duration": 102,
    "start_time": "2024-12-16T20:59:41.054Z"
   },
   {
    "duration": 31,
    "start_time": "2024-12-16T20:59:41.158Z"
   },
   {
    "duration": 111,
    "start_time": "2024-12-16T20:59:41.194Z"
   },
   {
    "duration": 10,
    "start_time": "2024-12-16T20:59:41.307Z"
   },
   {
    "duration": 53,
    "start_time": "2024-12-16T20:59:41.319Z"
   },
   {
    "duration": 167129,
    "start_time": "2024-12-16T20:59:41.381Z"
   },
   {
    "duration": 3,
    "start_time": "2024-12-16T21:02:28.512Z"
   },
   {
    "duration": 339810,
    "start_time": "2024-12-16T21:02:28.518Z"
   },
   {
    "duration": 3324,
    "start_time": "2024-12-16T21:08:08.330Z"
   },
   {
    "duration": 8,
    "start_time": "2024-12-16T21:26:26.494Z"
   },
   {
    "duration": 137747,
    "start_time": "2024-12-16T21:26:29.202Z"
   },
   {
    "duration": 1769,
    "start_time": "2024-12-16T21:30:00.247Z"
   },
   {
    "duration": 4,
    "start_time": "2024-12-16T21:34:39.791Z"
   },
   {
    "duration": 4,
    "start_time": "2024-12-16T22:31:15.932Z"
   },
   {
    "duration": 4,
    "start_time": "2024-12-16T22:31:38.315Z"
   },
   {
    "duration": 814,
    "start_time": "2024-12-16T22:31:48.419Z"
   },
   {
    "duration": 410,
    "start_time": "2024-12-16T22:31:49.235Z"
   },
   {
    "duration": 96,
    "start_time": "2024-12-16T22:31:49.648Z"
   },
   {
    "duration": 24,
    "start_time": "2024-12-16T22:31:49.746Z"
   },
   {
    "duration": 55,
    "start_time": "2024-12-16T22:31:49.773Z"
   },
   {
    "duration": 23,
    "start_time": "2024-12-16T22:31:49.830Z"
   },
   {
    "duration": 23,
    "start_time": "2024-12-16T22:31:49.869Z"
   },
   {
    "duration": 20,
    "start_time": "2024-12-16T22:31:49.894Z"
   },
   {
    "duration": 95,
    "start_time": "2024-12-16T22:31:49.916Z"
   },
   {
    "duration": 35,
    "start_time": "2024-12-16T22:31:50.013Z"
   },
   {
    "duration": 644,
    "start_time": "2024-12-16T22:31:50.050Z"
   },
   {
    "duration": 85,
    "start_time": "2024-12-16T22:31:50.696Z"
   },
   {
    "duration": 121,
    "start_time": "2024-12-16T22:31:50.783Z"
   },
   {
    "duration": 20,
    "start_time": "2024-12-16T22:31:50.908Z"
   },
   {
    "duration": 19,
    "start_time": "2024-12-16T22:31:50.930Z"
   },
   {
    "duration": 282,
    "start_time": "2024-12-16T22:31:50.950Z"
   },
   {
    "duration": 101,
    "start_time": "2024-12-16T22:31:51.234Z"
   },
   {
    "duration": 11,
    "start_time": "2024-12-16T22:31:51.337Z"
   },
   {
    "duration": 130,
    "start_time": "2024-12-16T22:31:51.350Z"
   },
   {
    "duration": 3,
    "start_time": "2024-12-16T22:31:51.481Z"
   },
   {
    "duration": 3,
    "start_time": "2024-12-16T22:31:51.486Z"
   },
   {
    "duration": 788,
    "start_time": "2024-12-16T22:32:21.253Z"
   },
   {
    "duration": 424,
    "start_time": "2024-12-16T22:32:22.043Z"
   },
   {
    "duration": 100,
    "start_time": "2024-12-16T22:32:22.470Z"
   },
   {
    "duration": 20,
    "start_time": "2024-12-16T22:32:22.572Z"
   },
   {
    "duration": 59,
    "start_time": "2024-12-16T22:32:22.593Z"
   },
   {
    "duration": 40,
    "start_time": "2024-12-16T22:32:22.653Z"
   },
   {
    "duration": 23,
    "start_time": "2024-12-16T22:32:22.695Z"
   },
   {
    "duration": 21,
    "start_time": "2024-12-16T22:32:22.720Z"
   },
   {
    "duration": 98,
    "start_time": "2024-12-16T22:32:22.743Z"
   },
   {
    "duration": 45,
    "start_time": "2024-12-16T22:32:22.844Z"
   },
   {
    "duration": 595,
    "start_time": "2024-12-16T22:32:22.891Z"
   },
   {
    "duration": 86,
    "start_time": "2024-12-16T22:32:23.488Z"
   },
   {
    "duration": 112,
    "start_time": "2024-12-16T22:32:23.575Z"
   },
   {
    "duration": 19,
    "start_time": "2024-12-16T22:32:23.689Z"
   },
   {
    "duration": 27,
    "start_time": "2024-12-16T22:32:23.710Z"
   },
   {
    "duration": 265,
    "start_time": "2024-12-16T22:32:23.741Z"
   },
   {
    "duration": 104,
    "start_time": "2024-12-16T22:32:24.008Z"
   },
   {
    "duration": 12,
    "start_time": "2024-12-16T22:32:24.113Z"
   },
   {
    "duration": 169,
    "start_time": "2024-12-16T22:32:24.126Z"
   },
   {
    "duration": 3,
    "start_time": "2024-12-16T22:32:24.297Z"
   },
   {
    "duration": 3,
    "start_time": "2024-12-16T22:32:24.371Z"
   },
   {
    "duration": 34914,
    "start_time": "2024-12-16T22:32:24.376Z"
   },
   {
    "duration": 3,
    "start_time": "2024-12-16T22:32:59.291Z"
   },
   {
    "duration": 308467,
    "start_time": "2024-12-16T22:32:59.295Z"
   },
   {
    "duration": 8,
    "start_time": "2024-12-16T22:38:07.763Z"
   },
   {
    "duration": 2997,
    "start_time": "2024-12-16T22:38:07.773Z"
   },
   {
    "duration": 2,
    "start_time": "2024-12-16T22:38:10.772Z"
   },
   {
    "duration": 120074,
    "start_time": "2024-12-16T22:38:10.778Z"
   },
   {
    "duration": 4,
    "start_time": "2024-12-16T22:40:10.854Z"
   },
   {
    "duration": 1567,
    "start_time": "2024-12-16T22:40:10.860Z"
   },
   {
    "duration": 41,
    "start_time": "2024-12-16T22:40:12.429Z"
   },
   {
    "duration": 3925,
    "start_time": "2024-12-16T22:40:12.474Z"
   },
   {
    "duration": 151,
    "start_time": "2024-12-16T22:40:16.401Z"
   },
   {
    "duration": 22,
    "start_time": "2024-12-16T22:40:16.554Z"
   },
   {
    "duration": 31410,
    "start_time": "2024-12-16T22:40:16.578Z"
   },
   {
    "duration": 8562,
    "start_time": "2024-12-16T22:40:47.990Z"
   },
   {
    "duration": 9517,
    "start_time": "2024-12-16T22:40:56.554Z"
   },
   {
    "duration": 8,
    "start_time": "2024-12-16T22:54:45.548Z"
   },
   {
    "duration": 11809,
    "start_time": "2024-12-16T23:01:29.490Z"
   },
   {
    "duration": 94,
    "start_time": "2024-12-16T23:06:29.804Z"
   },
   {
    "duration": 666689,
    "start_time": "2024-12-16T23:07:27.988Z"
   },
   {
    "duration": 3086,
    "start_time": "2024-12-16T23:18:34.679Z"
   },
   {
    "duration": 1561,
    "start_time": "2024-12-16T23:18:37.770Z"
   },
   {
    "duration": 3,
    "start_time": "2024-12-16T23:26:04.940Z"
   },
   {
    "duration": 309190,
    "start_time": "2024-12-16T23:27:14.902Z"
   }
  ],
  "kernelspec": {
   "display_name": "Python 3 (ipykernel)",
   "language": "python",
   "name": "python3"
  },
  "language_info": {
   "codemirror_mode": {
    "name": "ipython",
    "version": 3
   },
   "file_extension": ".py",
   "mimetype": "text/x-python",
   "name": "python",
   "nbconvert_exporter": "python",
   "pygments_lexer": "ipython3",
   "version": "3.13.2"
  },
  "toc": {
   "base_numbering": 1,
   "nav_menu": {},
   "number_sections": true,
   "sideBar": true,
   "skip_h1_title": true,
   "title_cell": "Table of Contents",
   "title_sidebar": "Contents",
   "toc_cell": false,
   "toc_position": {},
   "toc_section_display": true,
   "toc_window_display": false
  }
 },
 "nbformat": 4,
 "nbformat_minor": 4
}
